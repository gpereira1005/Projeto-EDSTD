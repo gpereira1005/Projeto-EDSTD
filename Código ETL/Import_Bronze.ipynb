{
 "cells": [
  {
   "cell_type": "code",
   "execution_count": null,
   "id": "9105da62-debe-4def-9b48-91d0f3bf6bb8",
   "metadata": {
    "tags": []
   },
   "outputs": [
    {
     "data": {
      "text/plain": [
       "'/TrabalhoPL/bronze/Air_Quality.csv'"
      ]
     },
     "execution_count": 1,
     "metadata": {},
     "output_type": "execute_result"
    }
   ],
   "source": [
    "from os import PathLike\n",
    "from hdfs import InsecureClient\n",
    "client = InsecureClient(\"http://hdfs-nn:9870\", user=\"anonymous\")\n",
    "\n",
    "from_path = \"./Air_Quality.csv\"\n",
    "to_path = \"/TrabalhoPL/bronze/Air_Quality.csv\"\n",
    "\n",
    "client.delete(to_path)\n",
    "\n",
    "client.upload(to_path, from_path)"
   ]
  },
  {
   "cell_type": "code",
   "execution_count": 2,
   "id": "89175657-1367-4021-a441-da0b165b1c56",
   "metadata": {
    "tags": []
   },
   "outputs": [
    {
     "data": {
      "text/plain": [
       "'/TrabalhoPL/bronze/Recycling_Diversion_and_Capture_Rates.csv'"
      ]
     },
     "execution_count": 2,
     "metadata": {},
     "output_type": "execute_result"
    }
   ],
   "source": [
    "from os import PathLike\n",
    "from hdfs import InsecureClient\n",
    "client = InsecureClient(\"http://hdfs-nn:9870\", user=\"anonymous\")\n",
    "\n",
    "from_path = \"./Recycling_Diversion_and_Capture_Rates.csv\"\n",
    "to_path = \"/TrabalhoPL/bronze/Recycling_Diversion_and_Capture_Rates.csv\"\n",
    "\n",
    "client.delete(to_path)\n",
    "\n",
    "client.upload(to_path, from_path)"
   ]
  },
  {
   "cell_type": "code",
   "execution_count": 3,
   "id": "f9ee64ce-0aa2-41bb-832b-e22770eacf54",
   "metadata": {},
   "outputs": [
    {
     "data": {
      "text/plain": [
       "'/TrabalhoPL/bronze/spill-incidents.csv'"
      ]
     },
     "execution_count": 3,
     "metadata": {},
     "output_type": "execute_result"
    }
   ],
   "source": [
    "from os import PathLike\n",
    "from hdfs import InsecureClient\n",
    "client = InsecureClient(\"http://hdfs-nn:9870\", user=\"anonymous\")\n",
    "\n",
    "from_path = \"./spill-incidents.csv\"\n",
    "to_path = \"/TrabalhoPL/bronze/spill-incidents.csv\"\n",
    "\n",
    "client.delete(to_path)\n",
    "\n",
    "client.upload(to_path, from_path)"
   ]
  },
  {
   "cell_type": "code",
   "execution_count": 4,
   "id": "4afd1b20-3e6b-4824-a342-e20762a96d6c",
   "metadata": {},
   "outputs": [
    {
     "data": {
      "text/plain": [
       "'/TrabalhoPL/bronze/Watershed_Water_Quality_-_Hydrology.csv'"
      ]
     },
     "execution_count": 4,
     "metadata": {},
     "output_type": "execute_result"
    }
   ],
   "source": [
    "from os import PathLike\n",
    "from hdfs import InsecureClient\n",
    "client = InsecureClient(\"http://hdfs-nn:9870\", user=\"anonymous\")\n",
    "\n",
    "from_path = \"./Watershed_Water_Quality_-_Hydrology.csv\"\n",
    "to_path = \"/TrabalhoPL/bronze/Watershed_Water_Quality_-_Hydrology.csv\"\n",
    "\n",
    "client.delete(to_path)\n",
    "\n",
    "client.upload(to_path, from_path)"
   ]
  },
  {
   "cell_type": "code",
   "execution_count": null,
   "id": "c338b682-2ff0-4e28-8a98-f8968d761a3e",
   "metadata": {},
   "outputs": [],
   "source": []
  }
 ],
 "metadata": {
  "kernelspec": {
   "display_name": "Python 3 (ipykernel)",
   "language": "python",
   "name": "python3"
  },
  "language_info": {
   "codemirror_mode": {
    "name": "ipython",
    "version": 3
   },
   "file_extension": ".py",
   "mimetype": "text/x-python",
   "name": "python",
   "nbconvert_exporter": "python",
   "pygments_lexer": "ipython3",
   "version": "3.10.6"
  }
 },
 "nbformat": 4,
 "nbformat_minor": 5
}
