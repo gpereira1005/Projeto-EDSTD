{
 "cells": [
  {
   "cell_type": "code",
   "execution_count": 1,
   "id": "12848078-12a8-4373-9ae9-41449944c965",
   "metadata": {},
   "outputs": [
    {
     "name": "stdout",
     "output_type": "stream",
     "text": [
      "Requirement already satisfied: hdfs in /opt/conda/lib/python3.10/site-packages (2.7.0)\n",
      "Requirement already satisfied: docopt in /opt/conda/lib/python3.10/site-packages (from hdfs) (0.6.2)\n",
      "Requirement already satisfied: six>=1.9.0 in /opt/conda/lib/python3.10/site-packages (from hdfs) (1.16.0)\n",
      "Requirement already satisfied: requests>=2.7.0 in /opt/conda/lib/python3.10/site-packages (from hdfs) (2.28.1)\n",
      "Requirement already satisfied: charset-normalizer<3,>=2 in /opt/conda/lib/python3.10/site-packages (from requests>=2.7.0->hdfs) (2.1.1)\n",
      "Requirement already satisfied: idna<4,>=2.5 in /opt/conda/lib/python3.10/site-packages (from requests>=2.7.0->hdfs) (3.4)\n",
      "Requirement already satisfied: urllib3<1.27,>=1.21.1 in /opt/conda/lib/python3.10/site-packages (from requests>=2.7.0->hdfs) (1.26.11)\n",
      "Requirement already satisfied: certifi>=2017.4.17 in /opt/conda/lib/python3.10/site-packages (from requests>=2.7.0->hdfs) (2022.9.24)\n"
     ]
    }
   ],
   "source": [
    "# Install dependencies\n",
    "\n",
    "import sys\n",
    "!{sys.executable} -m pip install hdfs"
   ]
  },
  {
   "cell_type": "code",
   "execution_count": 2,
   "id": "80c6d27a-efe2-4975-88a2-25a278a4ebf8",
   "metadata": {},
   "outputs": [
    {
     "name": "stdout",
     "output_type": "stream",
     "text": [
      "Requirement already satisfied: delta-spark in /opt/conda/lib/python3.10/site-packages (2.1.0)\n",
      "Requirement already satisfied: importlib-metadata>=1.0.0 in /opt/conda/lib/python3.10/site-packages (from delta-spark) (4.11.4)\n",
      "Requirement already satisfied: pyspark<3.4.0,>=3.3.0 in /usr/local/spark-3.3.0-bin-hadoop3/python (from delta-spark) (3.3.0)\n",
      "Requirement already satisfied: zipp>=0.5 in /opt/conda/lib/python3.10/site-packages (from importlib-metadata>=1.0.0->delta-spark) (3.8.1)\n",
      "Requirement already satisfied: py4j==0.10.9.5 in /opt/conda/lib/python3.10/site-packages (from pyspark<3.4.0,>=3.3.0->delta-spark) (0.10.9.5)\n",
      "Note: you may need to restart the kernel to use updated packages.\n"
     ]
    }
   ],
   "source": [
    "pip install delta-spark"
   ]
  },
  {
   "cell_type": "code",
   "execution_count": 1,
   "id": "e70e054f-5c03-4787-a6fa-672750e95ec1",
   "metadata": {},
   "outputs": [],
   "source": [
    "from pyspark.sql import SparkSession\n",
    "from pyspark.sql import Row\n",
    "from delta import *\n",
    "\n",
    "# warehouse_location points to the default location for managed databases and tables\n",
    "warehouse_location = 'hdfs://hdfs-nn:9000/TrabalhoPL/gold'\n",
    "\n",
    "builder = SparkSession \\\n",
    "    .builder \\\n",
    "    .appName(\"Python Spark SQL Hive integration example\") \\\n",
    "    .config(\"spark.sql.warehouse.dir\", warehouse_location) \\\n",
    "    .config(\"hive.metastore.uris\", \"thrift://hive-metastore:9083\") \\\n",
    "    .config(\"spark.sql.extensions\", \"io.delta.sql.DeltaSparkSessionExtension\") \\\n",
    "    .config(\"spark.sql.catalog.spark_catalog\", \"org.apache.spark.sql.delta.catalog.DeltaCatalog\") \\\n",
    "    .config(\"spark.jars.packages\", \"io.delta:delta-core_2.12:1.0.0\") \\\n",
    "    .enableHiveSupport() \\\n",
    "\n",
    "spark = spark = configure_spark_with_delta_pip(builder).getOrCreate()"
   ]
  },
  {
   "cell_type": "code",
   "execution_count": 2,
   "id": "dad49cc5-374e-4887-809d-e2db3e823d92",
   "metadata": {},
   "outputs": [
    {
     "data": {
      "text/plain": [
       "DataFrame[]"
      ]
     },
     "execution_count": 2,
     "metadata": {},
     "output_type": "execute_result"
    }
   ],
   "source": [
    "# create gold database\n",
    "spark.sql(\n",
    "    \"\"\"\n",
    "    DROP DATABASE IF EXISTS Projeto_gold CASCADE\n",
    "    \"\"\"\n",
    ")\n",
    "spark.sql(\n",
    "    \"\"\"\n",
    "    create database Projeto_gold location 'hdfs://hdfs-nn:9000/TrabalhoPL/gold/Projeto_gold.db'\n",
    "    \"\"\"\n",
    ")\n"
   ]
  },
  {
   "cell_type": "code",
   "execution_count": 2,
   "id": "d31abac9-0fb7-4fd6-9753-e3330d50e15a",
   "metadata": {},
   "outputs": [
    {
     "name": "stdout",
     "output_type": "stream",
     "text": [
      "+---------+-----------+-----------+-----------+--------------------+------------+------------+------------+-------------+----+\n",
      "|Sample_Id|Sample_Site|Sample_Date|Sample_Time|             Analyte|      Status|Final_Result|       Units| Stream_Group| Ano|\n",
      "+---------+-----------+-----------+-----------+--------------------+------------+------------+------------+-------------+----+\n",
      "| C-175259|       E16I| 1997-01-02|       8:32|Solids, Total Sus...|Desconhecido|           3|        mg/L|       Esopus|1997|\n",
      "| C-175259|       E16I| 1997-01-02|       8:32|                  pH|Desconhecido|        6.73|Desconhecida|       Esopus|1997|\n",
      "| C-175259|       E16I| 1997-01-02|       8:32|         Temperature|Desconhecido|           1|           C|       Esopus|1997|\n",
      "| C-175259|       E16I| 1997-01-02|       8:32|      Apparent Color|Desconhecido|           6|          CU|       Esopus|1997|\n",
      "| C-175259|       E16I| 1997-01-02|       8:32|     Scent Character|Desconhecido|           0|Desconhecida|       Esopus|1997|\n",
      "| C-175259|       E16I| 1997-01-02|       8:32|Specific Conductance|Desconhecido|          48|    umhos/cm|       Esopus|1997|\n",
      "| C-175259|       E16I| 1997-01-02|       8:32|     Coliform, Total|Desconhecido|          60|   CFU/100mL|       Esopus|1997|\n",
      "| C-175259|       E16I| 1997-01-02|       8:32|     Coliform, Fecal|Desconhecido|           2|   CFU/100mL|       Esopus|1997|\n",
      "| C-175259|       E16I| 1997-01-02|       8:32|           Turbidity|Desconhecido|         6.8|         NTU|       Esopus|1997|\n",
      "| C-175260|       E16I| 1997-01-03|       9:05|Solids, Total Sus...|Desconhecido|         2.8|        mg/L|       Esopus|1997|\n",
      "| C-175260|       E16I| 1997-01-03|       9:05|                  pH|Desconhecido|        6.64|Desconhecida|       Esopus|1997|\n",
      "| C-175260|       E16I| 1997-01-03|       9:05|         Temperature|Desconhecido|           3|           C|       Esopus|1997|\n",
      "| C-175260|       E16I| 1997-01-03|       9:05|      Apparent Color|Desconhecido|           7|          CU|       Esopus|1997|\n",
      "| C-175260|       E16I| 1997-01-03|       9:05|     Scent Character|Desconhecido|           0|Desconhecida|       Esopus|1997|\n",
      "| C-175260|       E16I| 1997-01-03|       9:05|Specific Conductance|Desconhecido|          49|    umhos/cm|       Esopus|1997|\n",
      "| C-175260|       E16I| 1997-01-03|       9:05|     Coliform, Total|Desconhecido|          66|   CFU/100mL|       Esopus|1997|\n",
      "| C-175260|       E16I| 1997-01-03|       9:05|     Coliform, Fecal|Desconhecido|          20|   CFU/100mL|       Esopus|1997|\n",
      "| C-175260|       E16I| 1997-01-03|       9:05|           Turbidity|Desconhecido|         7.9|         NTU|       Esopus|1997|\n",
      "|  E-94806|    CROTONR| 1997-01-06|      11:55|Organic Carbon, T...|Desconhecido|         3.2|        mg/L|EOH Hydrology|1997|\n",
      "|  D-60916|       EDRA| 1997-01-06|      10:38|           Turbidity|Desconhecido|         4.5|         NTU|     Pepacton|1997|\n",
      "+---------+-----------+-----------+-----------+--------------------+------------+------------+------------+-------------+----+\n",
      "only showing top 20 rows\n",
      "\n"
     ]
    }
   ],
   "source": [
    "from pyspark.sql.functions import substring, avg, sum\n",
    "\n",
    "# read air_quality from the silver tables\n",
    "hdfs_path = \"hdfs://hdfs-nn:9000/TrabalhoPL/silver/Projeto.db/Tabela_Agua\"\n",
    "\n",
    "agua = spark\\\n",
    "             .read\\\n",
    "             .load(hdfs_path)\n",
    "\n",
    "agua.show()"
   ]
  },
  {
   "cell_type": "code",
   "execution_count": 3,
   "id": "ca965029-3091-441d-b37b-b0fac534b8e5",
   "metadata": {},
   "outputs": [
    {
     "data": {
      "text/html": [
       "<div>\n",
       "<style scoped>\n",
       "    .dataframe tbody tr th:only-of-type {\n",
       "        vertical-align: middle;\n",
       "    }\n",
       "\n",
       "    .dataframe tbody tr th {\n",
       "        vertical-align: top;\n",
       "    }\n",
       "\n",
       "    .dataframe thead th {\n",
       "        text-align: right;\n",
       "    }\n",
       "</style>\n",
       "<table border=\"1\" class=\"dataframe\">\n",
       "  <thead>\n",
       "    <tr style=\"text-align: right;\">\n",
       "      <th></th>\n",
       "      <th>Ano</th>\n",
       "      <th>Analyte</th>\n",
       "      <th>Stream_Group</th>\n",
       "      <th>Media</th>\n",
       "    </tr>\n",
       "  </thead>\n",
       "  <tbody>\n",
       "    <tr>\n",
       "      <th>0</th>\n",
       "      <td>1997</td>\n",
       "      <td>Copper, Total (Undigested)</td>\n",
       "      <td>Catskill Daily</td>\n",
       "      <td>4.000000</td>\n",
       "    </tr>\n",
       "    <tr>\n",
       "      <th>1</th>\n",
       "      <td>1998</td>\n",
       "      <td>Chloride</td>\n",
       "      <td>Cannonsville</td>\n",
       "      <td>13.690735</td>\n",
       "    </tr>\n",
       "    <tr>\n",
       "      <th>2</th>\n",
       "      <td>1998</td>\n",
       "      <td>Antimony, Total (Undigested)</td>\n",
       "      <td>Cannonsville</td>\n",
       "      <td>0.160000</td>\n",
       "    </tr>\n",
       "    <tr>\n",
       "      <th>3</th>\n",
       "      <td>1998</td>\n",
       "      <td>Chromium, Total (Undigested)</td>\n",
       "      <td>Lower Esopus</td>\n",
       "      <td>NaN</td>\n",
       "    </tr>\n",
       "    <tr>\n",
       "      <th>4</th>\n",
       "      <td>1999</td>\n",
       "      <td>Scent Character</td>\n",
       "      <td>Cannonsville</td>\n",
       "      <td>0.170732</td>\n",
       "    </tr>\n",
       "    <tr>\n",
       "      <th>...</th>\n",
       "      <td>...</td>\n",
       "      <td>...</td>\n",
       "      <td>...</td>\n",
       "      <td>...</td>\n",
       "    </tr>\n",
       "    <tr>\n",
       "      <th>14750</th>\n",
       "      <td>2020</td>\n",
       "      <td>Magnesium, Dissolved</td>\n",
       "      <td>East Branch</td>\n",
       "      <td>9.108750</td>\n",
       "    </tr>\n",
       "    <tr>\n",
       "      <th>14751</th>\n",
       "      <td>2013</td>\n",
       "      <td>Ammonia (as N)</td>\n",
       "      <td>Neversink</td>\n",
       "      <td>0.061818</td>\n",
       "    </tr>\n",
       "    <tr>\n",
       "      <th>14752</th>\n",
       "      <td>2020</td>\n",
       "      <td>Sulfate (as SO4)</td>\n",
       "      <td>Esopus</td>\n",
       "      <td>2.992857</td>\n",
       "    </tr>\n",
       "    <tr>\n",
       "      <th>14753</th>\n",
       "      <td>2013</td>\n",
       "      <td>Sulfate (as SO4)</td>\n",
       "      <td>Neversink</td>\n",
       "      <td>4.330769</td>\n",
       "    </tr>\n",
       "    <tr>\n",
       "      <th>14754</th>\n",
       "      <td>2020</td>\n",
       "      <td>Calcium, Dissolved</td>\n",
       "      <td>Cannonsville</td>\n",
       "      <td>6.421429</td>\n",
       "    </tr>\n",
       "  </tbody>\n",
       "</table>\n",
       "<p>14755 rows × 4 columns</p>\n",
       "</div>"
      ],
      "text/plain": [
       "        Ano                       Analyte    Stream_Group      Media\n",
       "0      1997    Copper, Total (Undigested)  Catskill Daily   4.000000\n",
       "1      1998                      Chloride    Cannonsville  13.690735\n",
       "2      1998  Antimony, Total (Undigested)    Cannonsville   0.160000\n",
       "3      1998  Chromium, Total (Undigested)    Lower Esopus        NaN\n",
       "4      1999               Scent Character    Cannonsville   0.170732\n",
       "...     ...                           ...             ...        ...\n",
       "14750  2020          Magnesium, Dissolved     East Branch   9.108750\n",
       "14751  2013                Ammonia (as N)       Neversink   0.061818\n",
       "14752  2020              Sulfate (as SO4)          Esopus   2.992857\n",
       "14753  2013              Sulfate (as SO4)       Neversink   4.330769\n",
       "14754  2020            Calcium, Dissolved    Cannonsville   6.421429\n",
       "\n",
       "[14755 rows x 4 columns]"
      ]
     },
     "execution_count": 3,
     "metadata": {},
     "output_type": "execute_result"
    }
   ],
   "source": [
    "from pyspark.sql.functions import avg\n",
    "gold_agua = agua \\\n",
    "    .groupBy(\"Ano\", \"Analyte\", \"Stream_Group\")\\\n",
    "    .agg(\n",
    "        avg(agua.Final_Result).alias(\"Media\")\n",
    "    ) \\\n",
    "   \n",
    "gold_agua.toPandas()\n"
   ]
  },
  {
   "cell_type": "code",
   "execution_count": 4,
   "id": "220bae52-fcca-42e0-b6c6-6d95416e0494",
   "metadata": {},
   "outputs": [
    {
     "data": {
      "text/plain": [
       "DataFrame[]"
      ]
     },
     "execution_count": 4,
     "metadata": {},
     "output_type": "execute_result"
    }
   ],
   "source": [
    "# create air_quality table in gold\n",
    "spark.sql(\n",
    "    \"\"\"\n",
    "    DROP TABLE IF EXISTS Projeto_gold.Tabela_Agua_3\n",
    "    \"\"\"\n",
    ")\n",
    "\n",
    "spark.sql(\n",
    "    \"\"\"\n",
    "    CREATE EXTERNAL TABLE Projeto_gold.Tabela_Agua_3 (\n",
    "        Ano INT,\n",
    "        Analyte VARCHAR(250), \n",
    "        Stream_Group VARCHAR(250),\n",
    "        Media DOUBLE\n",
    "    )\n",
    "    USING DELTA\n",
    "    LOCATION 'hdfs://hdfs-nn:9000/TrabalhoPL/gold/Projeto_gold.db/Tabela_Agua_3/'\n",
    "    \"\"\"\n",
    ")\n",
    "        "
   ]
  },
  {
   "cell_type": "code",
   "execution_count": 5,
   "id": "1779cef3-a8b3-4b97-b732-2a8789d29b6a",
   "metadata": {},
   "outputs": [],
   "source": [
    "# write to delta table\n",
    "gold_agua \\\n",
    "    .write  \\\n",
    "    .format(\"delta\") \\\n",
    "    .mode(\"overwrite\") \\\n",
    "    .save(\"hdfs://hdfs-nn:9000/TrabalhoPL/gold/Projeto_gold.db/Tabela_Agua_3/\")"
   ]
  },
  {
   "cell_type": "code",
   "execution_count": 6,
   "id": "8aada780-a8da-45c1-af71-0119772394bf",
   "metadata": {},
   "outputs": [
    {
     "data": {
      "text/html": [
       "<div>\n",
       "<style scoped>\n",
       "    .dataframe tbody tr th:only-of-type {\n",
       "        vertical-align: middle;\n",
       "    }\n",
       "\n",
       "    .dataframe tbody tr th {\n",
       "        vertical-align: top;\n",
       "    }\n",
       "\n",
       "    .dataframe thead th {\n",
       "        text-align: right;\n",
       "    }\n",
       "</style>\n",
       "<table border=\"1\" class=\"dataframe\">\n",
       "  <thead>\n",
       "    <tr style=\"text-align: right;\">\n",
       "      <th></th>\n",
       "      <th>Ano</th>\n",
       "      <th>Analyte</th>\n",
       "      <th>Stream_Group</th>\n",
       "      <th>Media</th>\n",
       "    </tr>\n",
       "  </thead>\n",
       "  <tbody>\n",
       "    <tr>\n",
       "      <th>0</th>\n",
       "      <td>1997</td>\n",
       "      <td>Copper, Total (Undigested)</td>\n",
       "      <td>Catskill Daily</td>\n",
       "      <td>4.000000</td>\n",
       "    </tr>\n",
       "    <tr>\n",
       "      <th>1</th>\n",
       "      <td>1998</td>\n",
       "      <td>Chloride</td>\n",
       "      <td>Cannonsville</td>\n",
       "      <td>13.690735</td>\n",
       "    </tr>\n",
       "    <tr>\n",
       "      <th>2</th>\n",
       "      <td>1998</td>\n",
       "      <td>Antimony, Total (Undigested)</td>\n",
       "      <td>Cannonsville</td>\n",
       "      <td>0.160000</td>\n",
       "    </tr>\n",
       "    <tr>\n",
       "      <th>3</th>\n",
       "      <td>1998</td>\n",
       "      <td>Chromium, Total (Undigested)</td>\n",
       "      <td>Lower Esopus</td>\n",
       "      <td>NaN</td>\n",
       "    </tr>\n",
       "    <tr>\n",
       "      <th>4</th>\n",
       "      <td>1999</td>\n",
       "      <td>Scent Character</td>\n",
       "      <td>Cannonsville</td>\n",
       "      <td>0.170732</td>\n",
       "    </tr>\n",
       "    <tr>\n",
       "      <th>...</th>\n",
       "      <td>...</td>\n",
       "      <td>...</td>\n",
       "      <td>...</td>\n",
       "      <td>...</td>\n",
       "    </tr>\n",
       "    <tr>\n",
       "      <th>14750</th>\n",
       "      <td>2020</td>\n",
       "      <td>Magnesium, Dissolved</td>\n",
       "      <td>East Branch</td>\n",
       "      <td>9.108750</td>\n",
       "    </tr>\n",
       "    <tr>\n",
       "      <th>14751</th>\n",
       "      <td>2013</td>\n",
       "      <td>Ammonia (as N)</td>\n",
       "      <td>Neversink</td>\n",
       "      <td>0.061818</td>\n",
       "    </tr>\n",
       "    <tr>\n",
       "      <th>14752</th>\n",
       "      <td>2020</td>\n",
       "      <td>Sulfate (as SO4)</td>\n",
       "      <td>Esopus</td>\n",
       "      <td>2.992857</td>\n",
       "    </tr>\n",
       "    <tr>\n",
       "      <th>14753</th>\n",
       "      <td>2013</td>\n",
       "      <td>Sulfate (as SO4)</td>\n",
       "      <td>Neversink</td>\n",
       "      <td>4.330769</td>\n",
       "    </tr>\n",
       "    <tr>\n",
       "      <th>14754</th>\n",
       "      <td>2020</td>\n",
       "      <td>Calcium, Dissolved</td>\n",
       "      <td>Cannonsville</td>\n",
       "      <td>6.421429</td>\n",
       "    </tr>\n",
       "  </tbody>\n",
       "</table>\n",
       "<p>14755 rows × 4 columns</p>\n",
       "</div>"
      ],
      "text/plain": [
       "        Ano                       Analyte    Stream_Group      Media\n",
       "0      1997    Copper, Total (Undigested)  Catskill Daily   4.000000\n",
       "1      1998                      Chloride    Cannonsville  13.690735\n",
       "2      1998  Antimony, Total (Undigested)    Cannonsville   0.160000\n",
       "3      1998  Chromium, Total (Undigested)    Lower Esopus        NaN\n",
       "4      1999               Scent Character    Cannonsville   0.170732\n",
       "...     ...                           ...             ...        ...\n",
       "14750  2020          Magnesium, Dissolved     East Branch   9.108750\n",
       "14751  2013                Ammonia (as N)       Neversink   0.061818\n",
       "14752  2020              Sulfate (as SO4)          Esopus   2.992857\n",
       "14753  2013              Sulfate (as SO4)       Neversink   4.330769\n",
       "14754  2020            Calcium, Dissolved    Cannonsville   6.421429\n",
       "\n",
       "[14755 rows x 4 columns]"
      ]
     },
     "execution_count": 6,
     "metadata": {},
     "output_type": "execute_result"
    }
   ],
   "source": [
    "# check the results in the table\n",
    "spark.table(\"Projeto_gold.Tabela_Agua_3\").toPandas()\n"
   ]
  },
  {
   "cell_type": "code",
   "execution_count": 7,
   "id": "ee3cea41-9438-496e-8d94-ae7f91813fa9",
   "metadata": {},
   "outputs": [
    {
     "name": "stdout",
     "output_type": "stream",
     "text": [
      "++\n",
      "||\n",
      "++\n",
      "++\n",
      "\n"
     ]
    }
   ],
   "source": [
    "spark.sql(\"\"\"\n",
    "GENERATE symlink_format_manifest FOR TABLE delta.`hdfs://hdfs-nn:9000/TrabalhoPL/gold/Projeto_gold.db/Tabela_Agua_3/`\n",
    "\"\"\").show()"
   ]
  },
  {
   "cell_type": "code",
   "execution_count": 8,
   "id": "eb1b1932-53b9-4eed-8b41-501dbfb50ccb",
   "metadata": {},
   "outputs": [
    {
     "name": "stdout",
     "output_type": "stream",
     "text": [
      "++\n",
      "||\n",
      "++\n",
      "++\n",
      "\n",
      "++\n",
      "||\n",
      "++\n",
      "++\n",
      "\n"
     ]
    }
   ],
   "source": [
    "spark.sql(\"\"\"\n",
    "DROP TABLE IF EXISTS Projeto_gold.Tabela_Agua_Presto_3 \n",
    "\"\"\").show()\n",
    "\n",
    "spark.sql(\"\"\"\n",
    "    CREATE EXTERNAL TABLE Projeto_gold.Tabela_Agua_Presto_3 (\n",
    "        Ano INT,\n",
    "        Analyte VARCHAR(250), \n",
    "        Stream_Group VARCHAR(250),\n",
    "        Media DOUBLE\n",
    "    )\n",
    "ROW FORMAT SERDE 'org.apache.hadoop.hive.ql.io.parquet.serde.ParquetHiveSerDe'\n",
    "STORED AS INPUTFORMAT 'org.apache.hadoop.hive.ql.io.SymlinkTextInputFormat'\n",
    "OUTPUTFORMAT 'org.apache.hadoop.hive.ql.io.HiveIgnoreKeyTextOutputFormat'\n",
    "LOCATION 'hdfs://hdfs-nn:9000/TrabalhoPL/gold/Projeto_gold.db/Tabela_Agua_3/_symlink_format_manifest/'\n",
    "\"\"\").show()"
   ]
  },
  {
   "cell_type": "code",
   "execution_count": null,
   "id": "8dcacbee-6118-4f78-ab1f-dd808d069d31",
   "metadata": {},
   "outputs": [],
   "source": []
  }
 ],
 "metadata": {
  "kernelspec": {
   "display_name": "Python 3 (ipykernel)",
   "language": "python",
   "name": "python3"
  },
  "language_info": {
   "codemirror_mode": {
    "name": "ipython",
    "version": 3
   },
   "file_extension": ".py",
   "mimetype": "text/x-python",
   "name": "python",
   "nbconvert_exporter": "python",
   "pygments_lexer": "ipython3",
   "version": "3.10.6"
  }
 },
 "nbformat": 4,
 "nbformat_minor": 5
}
