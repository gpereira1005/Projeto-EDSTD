{
 "cells": [
  {
   "cell_type": "code",
   "execution_count": 1,
   "id": "12848078-12a8-4373-9ae9-41449944c965",
   "metadata": {},
   "outputs": [
    {
     "name": "stdout",
     "output_type": "stream",
     "text": [
      "Requirement already satisfied: hdfs in /opt/conda/lib/python3.10/site-packages (2.7.0)\n",
      "Requirement already satisfied: docopt in /opt/conda/lib/python3.10/site-packages (from hdfs) (0.6.2)\n",
      "Requirement already satisfied: six>=1.9.0 in /opt/conda/lib/python3.10/site-packages (from hdfs) (1.16.0)\n",
      "Requirement already satisfied: requests>=2.7.0 in /opt/conda/lib/python3.10/site-packages (from hdfs) (2.28.1)\n",
      "Requirement already satisfied: charset-normalizer<3,>=2 in /opt/conda/lib/python3.10/site-packages (from requests>=2.7.0->hdfs) (2.1.1)\n",
      "Requirement already satisfied: idna<4,>=2.5 in /opt/conda/lib/python3.10/site-packages (from requests>=2.7.0->hdfs) (3.4)\n",
      "Requirement already satisfied: urllib3<1.27,>=1.21.1 in /opt/conda/lib/python3.10/site-packages (from requests>=2.7.0->hdfs) (1.26.11)\n",
      "Requirement already satisfied: certifi>=2017.4.17 in /opt/conda/lib/python3.10/site-packages (from requests>=2.7.0->hdfs) (2022.9.24)\n"
     ]
    }
   ],
   "source": [
    "# Install dependencies\n",
    "\n",
    "import sys\n",
    "!{sys.executable} -m pip install hdfs"
   ]
  },
  {
   "cell_type": "code",
   "execution_count": 2,
   "id": "80c6d27a-efe2-4975-88a2-25a278a4ebf8",
   "metadata": {},
   "outputs": [
    {
     "name": "stdout",
     "output_type": "stream",
     "text": [
      "Requirement already satisfied: delta-spark in /opt/conda/lib/python3.10/site-packages (2.1.0)\n",
      "Requirement already satisfied: importlib-metadata>=1.0.0 in /opt/conda/lib/python3.10/site-packages (from delta-spark) (4.11.4)\n",
      "Requirement already satisfied: pyspark<3.4.0,>=3.3.0 in /usr/local/spark-3.3.0-bin-hadoop3/python (from delta-spark) (3.3.0)\n",
      "Requirement already satisfied: zipp>=0.5 in /opt/conda/lib/python3.10/site-packages (from importlib-metadata>=1.0.0->delta-spark) (3.8.1)\n",
      "Requirement already satisfied: py4j==0.10.9.5 in /opt/conda/lib/python3.10/site-packages (from pyspark<3.4.0,>=3.3.0->delta-spark) (0.10.9.5)\n",
      "Note: you may need to restart the kernel to use updated packages.\n"
     ]
    }
   ],
   "source": [
    "pip install delta-spark"
   ]
  },
  {
   "cell_type": "code",
   "execution_count": 1,
   "id": "e70e054f-5c03-4787-a6fa-672750e95ec1",
   "metadata": {},
   "outputs": [],
   "source": [
    "from pyspark.sql import SparkSession\n",
    "from pyspark.sql import Row\n",
    "from delta import *\n",
    "\n",
    "# warehouse_location points to the default location for managed databases and tables\n",
    "warehouse_location = 'hdfs://hdfs-nn:9000/TrabalhoPL/gold'\n",
    "\n",
    "builder = SparkSession \\\n",
    "    .builder \\\n",
    "    .appName(\"Python Spark SQL Hive integration example\") \\\n",
    "    .config(\"spark.sql.warehouse.dir\", warehouse_location) \\\n",
    "    .config(\"hive.metastore.uris\", \"thrift://hive-metastore:9083\") \\\n",
    "    .config(\"spark.sql.extensions\", \"io.delta.sql.DeltaSparkSessionExtension\") \\\n",
    "    .config(\"spark.sql.catalog.spark_catalog\", \"org.apache.spark.sql.delta.catalog.DeltaCatalog\") \\\n",
    "    .config(\"spark.jars.packages\", \"io.delta:delta-core_2.12:1.0.0\") \\\n",
    "    .enableHiveSupport() \\\n",
    "\n",
    "spark = spark = configure_spark_with_delta_pip(builder).getOrCreate()"
   ]
  },
  {
   "cell_type": "code",
   "execution_count": 2,
   "id": "dad49cc5-374e-4887-809d-e2db3e823d92",
   "metadata": {},
   "outputs": [
    {
     "data": {
      "text/plain": [
       "DataFrame[]"
      ]
     },
     "execution_count": 2,
     "metadata": {},
     "output_type": "execute_result"
    }
   ],
   "source": [
    "# create gold database\n",
    "spark.sql(\n",
    "    \"\"\"\n",
    "    DROP DATABASE IF EXISTS Projeto_gold CASCADE\n",
    "    \"\"\"\n",
    ")\n",
    "spark.sql(\n",
    "    \"\"\"\n",
    "    create database Projeto_gold location 'hdfs://hdfs-nn:9000/TrabalhoPL/gold/Projeto_gold.db'\n",
    "    \"\"\"\n",
    ")\n"
   ]
  },
  {
   "cell_type": "code",
   "execution_count": 2,
   "id": "d31abac9-0fb7-4fd6-9753-e3330d50e15a",
   "metadata": {},
   "outputs": [
    {
     "name": "stdout",
     "output_type": "stream",
     "text": [
      "+---------+------------+--------------------+--------------+------------+-------------+-----------+--------------------+-----------+----------+----------+----------+-------------+----+\n",
      "|Unique_ID|Indicator_ID|                Name|       Measure|Measure_Info|Geo_Type_Name|Geo_Join_ID|      Geo_Place_Name|Time_Period|Start_Date|Data_Value|  End_Date|   Localidade| Ano|\n",
      "+---------+------------+--------------------+--------------+------------+-------------+-----------+--------------------+-----------+----------+----------+----------+-------------+----+\n",
      "|   179718|         642|Boiler Emissions-...|Number per km2|      number|        UHF42|        504|South Beach - Tot...|       2015|2015-01-01|       2.0|2015-12-31|Staten Island|2015|\n",
      "|   179719|         642|Boiler Emissions-...|Number per km2|      number|        UHF42|        503|         Willowbrook|       2015|2015-01-01|       2.1|2015-12-31|Staten Island|2015|\n",
      "|   179720|         642|Boiler Emissions-...|Number per km2|      number|        UHF42|        501|       Port Richmond|       2015|2015-01-01|       2.8|2015-12-31|Staten Island|2015|\n",
      "|   179721|         642|Boiler Emissions-...|Number per km2|      number|        UHF42|        502|Stapleton - St. G...|       2015|2015-01-01|       4.6|2015-12-31|Staten Island|2015|\n",
      "|   179722|         642|Boiler Emissions-...|Number per km2|      number|        UHF42|        410|           Rockaways|       2015|2015-01-01|       6.1|2015-12-31|       Queens|2015|\n",
      "|   179723|         642|Boiler Emissions-...|Number per km2|      number|        UHF42|        208|Canarsie - Flatlands|       2015|2015-01-01|       6.6|2015-12-31|     Brooklyn|2015|\n",
      "|   179724|         642|Boiler Emissions-...|Number per km2|      number|        UHF42|        409|    Southeast Queens|       2015|2015-01-01|       8.1|2015-12-31|       Queens|2015|\n",
      "|   179725|         642|Boiler Emissions-...|Number per km2|      number|        UHF42|        404|Bayside - Little ...|       2015|2015-01-01|       9.8|2015-12-31|       Queens|2015|\n",
      "|   179726|         642|Boiler Emissions-...|Number per km2|      number|        UHF42|        408|             Jamaica|       2015|2015-01-01|      13.1|2015-12-31|       Queens|2015|\n",
      "|   179727|         642|Boiler Emissions-...|Number per km2|      number|        UHF42|        205|         Sunset Park|       2015|2015-01-01|      13.9|2015-12-31|     Brooklyn|2015|\n",
      "|   179728|         642|Boiler Emissions-...|Number per km2|      number|        UHF42|        407|    Southwest Queens|       2015|2015-01-01|      14.3|2015-12-31|       Queens|2015|\n",
      "|   179729|         642|Boiler Emissions-...|Number per km2|      number|        UHF42|        406|       Fresh Meadows|       2015|2015-01-01|      14.3|2015-12-31|       Queens|2015|\n",
      "|   179730|         642|Boiler Emissions-...|Number per km2|      number|        UHF42|        204|       East New York|       2015|2015-01-01|      14.7|2015-12-31|     Brooklyn|2015|\n",
      "|   179731|         642|Boiler Emissions-...|Number per km2|      number|        UHF42|        403|Flushing - Clearview|       2015|2015-01-01|      17.0|2015-12-31|       Queens|2015|\n",
      "|   179732|         642|Boiler Emissions-...|Number per km2|      number|        UHF42|        201|          Greenpoint|       2015|2015-01-01|      18.8|2015-12-31|     Brooklyn|2015|\n",
      "|   179733|         642|Boiler Emissions-...|Number per km2|      number|        UHF42|        405|Ridgewood - Fores...|       2015|2015-01-01|      22.5|2015-12-31|       Queens|2015|\n",
      "|   179734|         642|Boiler Emissions-...|Number per km2|      number|        UHF42|        210|Coney Island - Sh...|       2015|2015-01-01|      23.5|2015-12-31|     Brooklyn|2015|\n",
      "|   179735|         642|Boiler Emissions-...|Number per km2|      number|        UHF42|        104|Pelham - Throgs Neck|       2015|2015-01-01|      23.6|2015-12-31|        Bronx|2015|\n",
      "|   179736|         642|Boiler Emissions-...|Number per km2|      number|        UHF42|        402|         West Queens|       2015|2015-01-01|      23.7|2015-12-31|       Queens|2015|\n",
      "|   179737|         642|Boiler Emissions-...|Number per km2|      number|        UHF42|        209|Bensonhurst - Bay...|       2015|2015-01-01|      26.1|2015-12-31|     Brooklyn|2015|\n",
      "+---------+------------+--------------------+--------------+------------+-------------+-----------+--------------------+-----------+----------+----------+----------+-------------+----+\n",
      "only showing top 20 rows\n",
      "\n",
      "root\n",
      " |-- Unique_ID: string (nullable = true)\n",
      " |-- Indicator_ID: integer (nullable = true)\n",
      " |-- Name: string (nullable = true)\n",
      " |-- Measure: string (nullable = true)\n",
      " |-- Measure_Info: string (nullable = true)\n",
      " |-- Geo_Type_Name: string (nullable = true)\n",
      " |-- Geo_Join_ID: string (nullable = true)\n",
      " |-- Geo_Place_Name: string (nullable = true)\n",
      " |-- Time_Period: string (nullable = true)\n",
      " |-- Start_Date: date (nullable = true)\n",
      " |-- Data_Value: float (nullable = true)\n",
      " |-- End_Date: date (nullable = true)\n",
      " |-- Localidade: string (nullable = true)\n",
      " |-- Ano: integer (nullable = true)\n",
      "\n"
     ]
    }
   ],
   "source": [
    "from pyspark.sql.functions import substring, avg, sum\n",
    "\n",
    "# read air_quality from the silver tables\n",
    "hdfs_path = \"hdfs://hdfs-nn:9000/TrabalhoPL/silver/Projeto.db/Tabela_Ar\"\n",
    "\n",
    "air_quality = spark\\\n",
    "             .read\\\n",
    "             .load(hdfs_path)\n",
    "\n",
    "air_quality.show()\n",
    "air_quality.printSchema()"
   ]
  },
  {
   "cell_type": "code",
   "execution_count": 3,
   "id": "ca965029-3091-441d-b37b-b0fac534b8e5",
   "metadata": {},
   "outputs": [
    {
     "data": {
      "text/html": [
       "<div>\n",
       "<style scoped>\n",
       "    .dataframe tbody tr th:only-of-type {\n",
       "        vertical-align: middle;\n",
       "    }\n",
       "\n",
       "    .dataframe tbody tr th {\n",
       "        vertical-align: top;\n",
       "    }\n",
       "\n",
       "    .dataframe thead th {\n",
       "        text-align: right;\n",
       "    }\n",
       "</style>\n",
       "<table border=\"1\" class=\"dataframe\">\n",
       "  <thead>\n",
       "    <tr style=\"text-align: right;\">\n",
       "      <th></th>\n",
       "      <th>Localidade</th>\n",
       "      <th>Name</th>\n",
       "      <th>Media</th>\n",
       "    </tr>\n",
       "  </thead>\n",
       "  <tbody>\n",
       "    <tr>\n",
       "      <th>0</th>\n",
       "      <td>Manhattan</td>\n",
       "      <td>PM2.5-Attributable Cardiovascular Hospitalizat...</td>\n",
       "      <td>16.242764</td>\n",
       "    </tr>\n",
       "    <tr>\n",
       "      <th>1</th>\n",
       "      <td>Queens</td>\n",
       "      <td>Ozone (O3)</td>\n",
       "      <td>32.009091</td>\n",
       "    </tr>\n",
       "    <tr>\n",
       "      <th>2</th>\n",
       "      <td>Bronx</td>\n",
       "      <td>PM2.5-Attributable Cardiovascular Hospitalizat...</td>\n",
       "      <td>22.291722</td>\n",
       "    </tr>\n",
       "    <tr>\n",
       "      <th>3</th>\n",
       "      <td>Queens</td>\n",
       "      <td>PM2.5-Attributable Cardiovascular Hospitalizat...</td>\n",
       "      <td>16.150512</td>\n",
       "    </tr>\n",
       "    <tr>\n",
       "      <th>4</th>\n",
       "      <td>Bronx</td>\n",
       "      <td>Nitrogen Dioxide (NO2)</td>\n",
       "      <td>20.535799</td>\n",
       "    </tr>\n",
       "    <tr>\n",
       "      <th>...</th>\n",
       "      <td>...</td>\n",
       "      <td>...</td>\n",
       "      <td>...</td>\n",
       "    </tr>\n",
       "    <tr>\n",
       "      <th>109</th>\n",
       "      <td>New York City</td>\n",
       "      <td>Traffic Density- Annual Vehicle Miles Traveled...</td>\n",
       "      <td>22.150001</td>\n",
       "    </tr>\n",
       "    <tr>\n",
       "      <th>110</th>\n",
       "      <td>Bronx</td>\n",
       "      <td>Traffic Density- Annual Vehicle Miles Traveled</td>\n",
       "      <td>26.843590</td>\n",
       "    </tr>\n",
       "    <tr>\n",
       "      <th>111</th>\n",
       "      <td>Manhattan</td>\n",
       "      <td>Traffic Density- Annual Vehicle Miles Traveled</td>\n",
       "      <td>50.368889</td>\n",
       "    </tr>\n",
       "    <tr>\n",
       "      <th>112</th>\n",
       "      <td>New York City</td>\n",
       "      <td>Traffic Density- Annual Vehicle Miles Traveled...</td>\n",
       "      <td>1.250000</td>\n",
       "    </tr>\n",
       "    <tr>\n",
       "      <th>113</th>\n",
       "      <td>Queens</td>\n",
       "      <td>Traffic Density- Annual Vehicle Miles Traveled</td>\n",
       "      <td>26.995918</td>\n",
       "    </tr>\n",
       "  </tbody>\n",
       "</table>\n",
       "<p>114 rows × 3 columns</p>\n",
       "</div>"
      ],
      "text/plain": [
       "        Localidade                                               Name  \\\n",
       "0        Manhattan  PM2.5-Attributable Cardiovascular Hospitalizat...   \n",
       "1           Queens                                         Ozone (O3)   \n",
       "2            Bronx  PM2.5-Attributable Cardiovascular Hospitalizat...   \n",
       "3           Queens  PM2.5-Attributable Cardiovascular Hospitalizat...   \n",
       "4            Bronx                             Nitrogen Dioxide (NO2)   \n",
       "..             ...                                                ...   \n",
       "109  New York City  Traffic Density- Annual Vehicle Miles Traveled...   \n",
       "110          Bronx     Traffic Density- Annual Vehicle Miles Traveled   \n",
       "111      Manhattan     Traffic Density- Annual Vehicle Miles Traveled   \n",
       "112  New York City  Traffic Density- Annual Vehicle Miles Traveled...   \n",
       "113         Queens     Traffic Density- Annual Vehicle Miles Traveled   \n",
       "\n",
       "         Media  \n",
       "0    16.242764  \n",
       "1    32.009091  \n",
       "2    22.291722  \n",
       "3    16.150512  \n",
       "4    20.535799  \n",
       "..         ...  \n",
       "109  22.150001  \n",
       "110  26.843590  \n",
       "111  50.368889  \n",
       "112   1.250000  \n",
       "113  26.995918  \n",
       "\n",
       "[114 rows x 3 columns]"
      ]
     },
     "execution_count": 3,
     "metadata": {},
     "output_type": "execute_result"
    }
   ],
   "source": [
    "from pyspark.sql.functions import avg\n",
    "gold_air_quality = air_quality \\\n",
    "    .groupBy(\"Localidade\", \"Name\")\\\n",
    "    .agg(\n",
    "        avg(air_quality.Data_Value).alias(\"Media\")\n",
    "    ) \\\n",
    "   \n",
    "gold_air_quality.toPandas()\n"
   ]
  },
  {
   "cell_type": "code",
   "execution_count": 5,
   "id": "220bae52-fcca-42e0-b6c6-6d95416e0494",
   "metadata": {},
   "outputs": [
    {
     "data": {
      "text/plain": [
       "DataFrame[]"
      ]
     },
     "execution_count": 5,
     "metadata": {},
     "output_type": "execute_result"
    }
   ],
   "source": [
    "# create air_quality table in gold\n",
    "spark.sql(\n",
    "    \"\"\"\n",
    "    DROP TABLE IF EXISTS Projeto_gold.Tabela_Ar\n",
    "    \"\"\"\n",
    ")\n",
    "\n",
    "spark.sql(\n",
    "    \"\"\"\n",
    "    CREATE EXTERNAL TABLE Projeto_gold.Tabela_Ar (\n",
    "        Localidade VARCHAR(250),\n",
    "        Name VARCHAR(500), \n",
    "        Media Double\n",
    "    )\n",
    "    USING DELTA\n",
    "    LOCATION 'hdfs://hdfs-nn:9000/TrabalhoPL/gold/Projeto_gold.db/Tabela_Ar/'\n",
    "    \"\"\"\n",
    ")\n",
    "        "
   ]
  },
  {
   "cell_type": "code",
   "execution_count": 6,
   "id": "1779cef3-a8b3-4b97-b732-2a8789d29b6a",
   "metadata": {},
   "outputs": [],
   "source": [
    "# write to delta table\n",
    "gold_air_quality \\\n",
    "    .write  \\\n",
    "    .format(\"delta\") \\\n",
    "    .mode(\"overwrite\") \\\n",
    "    .save(\"hdfs://hdfs-nn:9000/TrabalhoPL/gold/Projeto_gold.db/Tabela_Ar/\")"
   ]
  },
  {
   "cell_type": "code",
   "execution_count": 7,
   "id": "8aada780-a8da-45c1-af71-0119772394bf",
   "metadata": {},
   "outputs": [
    {
     "data": {
      "text/html": [
       "<div>\n",
       "<style scoped>\n",
       "    .dataframe tbody tr th:only-of-type {\n",
       "        vertical-align: middle;\n",
       "    }\n",
       "\n",
       "    .dataframe tbody tr th {\n",
       "        vertical-align: top;\n",
       "    }\n",
       "\n",
       "    .dataframe thead th {\n",
       "        text-align: right;\n",
       "    }\n",
       "</style>\n",
       "<table border=\"1\" class=\"dataframe\">\n",
       "  <thead>\n",
       "    <tr style=\"text-align: right;\">\n",
       "      <th></th>\n",
       "      <th>Localidade</th>\n",
       "      <th>Name</th>\n",
       "      <th>Media</th>\n",
       "    </tr>\n",
       "  </thead>\n",
       "  <tbody>\n",
       "    <tr>\n",
       "      <th>0</th>\n",
       "      <td>Manhattan</td>\n",
       "      <td>PM2.5-Attributable Cardiovascular Hospitalizat...</td>\n",
       "      <td>16.242764</td>\n",
       "    </tr>\n",
       "    <tr>\n",
       "      <th>1</th>\n",
       "      <td>Queens</td>\n",
       "      <td>Ozone (O3)</td>\n",
       "      <td>32.009091</td>\n",
       "    </tr>\n",
       "    <tr>\n",
       "      <th>2</th>\n",
       "      <td>Bronx</td>\n",
       "      <td>PM2.5-Attributable Cardiovascular Hospitalizat...</td>\n",
       "      <td>22.291722</td>\n",
       "    </tr>\n",
       "    <tr>\n",
       "      <th>3</th>\n",
       "      <td>Queens</td>\n",
       "      <td>PM2.5-Attributable Cardiovascular Hospitalizat...</td>\n",
       "      <td>16.150512</td>\n",
       "    </tr>\n",
       "    <tr>\n",
       "      <th>4</th>\n",
       "      <td>Bronx</td>\n",
       "      <td>Nitrogen Dioxide (NO2)</td>\n",
       "      <td>20.535799</td>\n",
       "    </tr>\n",
       "    <tr>\n",
       "      <th>...</th>\n",
       "      <td>...</td>\n",
       "      <td>...</td>\n",
       "      <td>...</td>\n",
       "    </tr>\n",
       "    <tr>\n",
       "      <th>109</th>\n",
       "      <td>New York City</td>\n",
       "      <td>Traffic Density- Annual Vehicle Miles Traveled...</td>\n",
       "      <td>22.150001</td>\n",
       "    </tr>\n",
       "    <tr>\n",
       "      <th>110</th>\n",
       "      <td>Bronx</td>\n",
       "      <td>Traffic Density- Annual Vehicle Miles Traveled</td>\n",
       "      <td>26.843590</td>\n",
       "    </tr>\n",
       "    <tr>\n",
       "      <th>111</th>\n",
       "      <td>Manhattan</td>\n",
       "      <td>Traffic Density- Annual Vehicle Miles Traveled</td>\n",
       "      <td>50.368889</td>\n",
       "    </tr>\n",
       "    <tr>\n",
       "      <th>112</th>\n",
       "      <td>New York City</td>\n",
       "      <td>Traffic Density- Annual Vehicle Miles Traveled...</td>\n",
       "      <td>1.250000</td>\n",
       "    </tr>\n",
       "    <tr>\n",
       "      <th>113</th>\n",
       "      <td>Queens</td>\n",
       "      <td>Traffic Density- Annual Vehicle Miles Traveled</td>\n",
       "      <td>26.995918</td>\n",
       "    </tr>\n",
       "  </tbody>\n",
       "</table>\n",
       "<p>114 rows × 3 columns</p>\n",
       "</div>"
      ],
      "text/plain": [
       "        Localidade                                               Name  \\\n",
       "0        Manhattan  PM2.5-Attributable Cardiovascular Hospitalizat...   \n",
       "1           Queens                                         Ozone (O3)   \n",
       "2            Bronx  PM2.5-Attributable Cardiovascular Hospitalizat...   \n",
       "3           Queens  PM2.5-Attributable Cardiovascular Hospitalizat...   \n",
       "4            Bronx                             Nitrogen Dioxide (NO2)   \n",
       "..             ...                                                ...   \n",
       "109  New York City  Traffic Density- Annual Vehicle Miles Traveled...   \n",
       "110          Bronx     Traffic Density- Annual Vehicle Miles Traveled   \n",
       "111      Manhattan     Traffic Density- Annual Vehicle Miles Traveled   \n",
       "112  New York City  Traffic Density- Annual Vehicle Miles Traveled...   \n",
       "113         Queens     Traffic Density- Annual Vehicle Miles Traveled   \n",
       "\n",
       "         Media  \n",
       "0    16.242764  \n",
       "1    32.009091  \n",
       "2    22.291722  \n",
       "3    16.150512  \n",
       "4    20.535799  \n",
       "..         ...  \n",
       "109  22.150001  \n",
       "110  26.843590  \n",
       "111  50.368889  \n",
       "112   1.250000  \n",
       "113  26.995918  \n",
       "\n",
       "[114 rows x 3 columns]"
      ]
     },
     "execution_count": 7,
     "metadata": {},
     "output_type": "execute_result"
    }
   ],
   "source": [
    "# check the results in the table\n",
    "spark.table(\"Projeto_gold.Tabela_Ar\").toPandas()\n"
   ]
  },
  {
   "cell_type": "code",
   "execution_count": 8,
   "id": "ee3cea41-9438-496e-8d94-ae7f91813fa9",
   "metadata": {},
   "outputs": [
    {
     "name": "stdout",
     "output_type": "stream",
     "text": [
      "++\n",
      "||\n",
      "++\n",
      "++\n",
      "\n"
     ]
    }
   ],
   "source": [
    "spark.sql(\"\"\"\n",
    "GENERATE symlink_format_manifest FOR TABLE delta.`hdfs://hdfs-nn:9000/TrabalhoPL/gold/Projeto_gold.db/Tabela_Ar/`\n",
    "\"\"\").show()"
   ]
  },
  {
   "cell_type": "code",
   "execution_count": 9,
   "id": "eb1b1932-53b9-4eed-8b41-501dbfb50ccb",
   "metadata": {},
   "outputs": [
    {
     "name": "stdout",
     "output_type": "stream",
     "text": [
      "++\n",
      "||\n",
      "++\n",
      "++\n",
      "\n",
      "++\n",
      "||\n",
      "++\n",
      "++\n",
      "\n"
     ]
    }
   ],
   "source": [
    "spark.sql(\"\"\"\n",
    "DROP TABLE IF EXISTS Projeto_gold.Tabela_Ar_Presto \n",
    "\"\"\").show()\n",
    "\n",
    "spark.sql(\"\"\"\n",
    "    CREATE EXTERNAL TABLE Projeto_gold.Tabela_Ar_Presto (\n",
    "        Localidade VARCHAR(250),\n",
    "        Name VARCHAR(500), \n",
    "        Media Double\n",
    "        )\n",
    "ROW FORMAT SERDE 'org.apache.hadoop.hive.ql.io.parquet.serde.ParquetHiveSerDe'\n",
    "STORED AS INPUTFORMAT 'org.apache.hadoop.hive.ql.io.SymlinkTextInputFormat'\n",
    "OUTPUTFORMAT 'org.apache.hadoop.hive.ql.io.HiveIgnoreKeyTextOutputFormat'\n",
    "LOCATION 'hdfs://hdfs-nn:9000/TrabalhoPL/gold/Projeto_gold.db/Tabela_Ar/_symlink_format_manifest/'\n",
    "\"\"\").show()"
   ]
  },
  {
   "cell_type": "code",
   "execution_count": null,
   "id": "8dcacbee-6118-4f78-ab1f-dd808d069d31",
   "metadata": {},
   "outputs": [],
   "source": []
  }
 ],
 "metadata": {
  "kernelspec": {
   "display_name": "Python 3 (ipykernel)",
   "language": "python",
   "name": "python3"
  },
  "language_info": {
   "codemirror_mode": {
    "name": "ipython",
    "version": 3
   },
   "file_extension": ".py",
   "mimetype": "text/x-python",
   "name": "python",
   "nbconvert_exporter": "python",
   "pygments_lexer": "ipython3",
   "version": "3.10.6"
  }
 },
 "nbformat": 4,
 "nbformat_minor": 5
}
