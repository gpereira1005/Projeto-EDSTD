{
 "cells": [
  {
   "cell_type": "code",
   "execution_count": 1,
   "id": "9d3aabee-c9fd-4616-b1f3-453b965bef7f",
   "metadata": {},
   "outputs": [
    {
     "name": "stdout",
     "output_type": "stream",
     "text": [
      "Requirement already satisfied: hdfs in /opt/conda/lib/python3.10/site-packages (2.7.0)\n",
      "Requirement already satisfied: requests>=2.7.0 in /opt/conda/lib/python3.10/site-packages (from hdfs) (2.28.1)\n",
      "Requirement already satisfied: docopt in /opt/conda/lib/python3.10/site-packages (from hdfs) (0.6.2)\n",
      "Requirement already satisfied: six>=1.9.0 in /opt/conda/lib/python3.10/site-packages (from hdfs) (1.16.0)\n",
      "Requirement already satisfied: charset-normalizer<3,>=2 in /opt/conda/lib/python3.10/site-packages (from requests>=2.7.0->hdfs) (2.1.1)\n",
      "Requirement already satisfied: urllib3<1.27,>=1.21.1 in /opt/conda/lib/python3.10/site-packages (from requests>=2.7.0->hdfs) (1.26.11)\n",
      "Requirement already satisfied: idna<4,>=2.5 in /opt/conda/lib/python3.10/site-packages (from requests>=2.7.0->hdfs) (3.4)\n",
      "Requirement already satisfied: certifi>=2017.4.17 in /opt/conda/lib/python3.10/site-packages (from requests>=2.7.0->hdfs) (2022.9.24)\n"
     ]
    }
   ],
   "source": [
    "# Install dependencies\n",
    "\n",
    "import sys\n",
    "!{sys.executable} -m pip install hdfs"
   ]
  },
  {
   "cell_type": "code",
   "execution_count": 2,
   "id": "d58cec05-a8f7-4aa0-91a5-1ed6a84216fb",
   "metadata": {},
   "outputs": [
    {
     "name": "stdout",
     "output_type": "stream",
     "text": [
      "Requirement already satisfied: delta-spark in /opt/conda/lib/python3.10/site-packages (2.1.0)\n",
      "Requirement already satisfied: importlib-metadata>=1.0.0 in /opt/conda/lib/python3.10/site-packages (from delta-spark) (4.11.4)\n",
      "Requirement already satisfied: pyspark<3.4.0,>=3.3.0 in /usr/local/spark-3.3.0-bin-hadoop3/python (from delta-spark) (3.3.0)\n",
      "Requirement already satisfied: zipp>=0.5 in /opt/conda/lib/python3.10/site-packages (from importlib-metadata>=1.0.0->delta-spark) (3.8.1)\n",
      "Requirement already satisfied: py4j==0.10.9.5 in /opt/conda/lib/python3.10/site-packages (from pyspark<3.4.0,>=3.3.0->delta-spark) (0.10.9.5)\n",
      "Note: you may need to restart the kernel to use updated packages.\n"
     ]
    }
   ],
   "source": [
    "pip install delta-spark"
   ]
  },
  {
   "cell_type": "code",
   "execution_count": 1,
   "id": "27612b8b-7f05-47c9-a332-b6695e5a2732",
   "metadata": {},
   "outputs": [],
   "source": [
    "from pyspark.sql import SparkSession\n",
    "from pyspark.sql import Row\n",
    "from delta import *\n",
    "\n",
    "# warehouse_location points to the default location for managed databases and tables\n",
    "warehouse_location = 'hdfs://hdfs-nn:9000/Habitos_sustentaveis/gold'\n",
    "\n",
    "builder = SparkSession \\\n",
    "    .builder \\\n",
    "    .appName(\"Python Spark SQL Hive integration example\") \\\n",
    "    .config(\"spark.sql.warehouse.dir\", warehouse_location) \\\n",
    "    .config(\"hive.metastore.uris\", \"thrift://hive-metastore:9083\") \\\n",
    "    .config(\"spark.sql.extensions\", \"io.delta.sql.DeltaSparkSessionExtension\") \\\n",
    "    .config(\"spark.sql.catalog.spark_catalog\", \"org.apache.spark.sql.delta.catalog.DeltaCatalog\") \\\n",
    "    .config(\"spark.jars.packages\", \"io.delta:delta-core_2.12:1.0.0\") \\\n",
    "    .enableHiveSupport() \\\n",
    "\n",
    "spark = spark = configure_spark_with_delta_pip(builder).getOrCreate()"
   ]
  },
  {
   "cell_type": "code",
   "execution_count": 4,
   "id": "f4415c39-0166-4955-aa2e-5e172ca8e440",
   "metadata": {},
   "outputs": [
    {
     "data": {
      "text/plain": [
       "DataFrame[]"
      ]
     },
     "execution_count": 4,
     "metadata": {},
     "output_type": "execute_result"
    }
   ],
   "source": [
    "\n"
   ]
  },
  {
   "cell_type": "code",
   "execution_count": 2,
   "id": "c162f56a-2a3b-447d-8fdc-dbf91f032a59",
   "metadata": {},
   "outputs": [
    {
     "name": "stdout",
     "output_type": "stream",
     "text": [
      "+------------+---------------------+--------------------+----------------+--------+---------+----------+-------------------+--------------------+--------------------+--------------------+------------------+--------+------------+---------+------------+-------------+----------+----+\n",
      "|Spill_Number|Program_Facility_Name|              Street|        Locality|  Contry|SWIS_Code|DEC_Region|Contributing_Factor|           Waterbody|              Source|       Material_Name|   Material_Family|Quantity|       Units|Recovered|Data_Derrame|Data_Relatada|  Data_Fim| Ano|\n",
      "+------------+---------------------+--------------------+----------------+--------+---------+----------+-------------------+--------------------+--------------------+--------------------+------------------+--------+------------+---------+------------+-------------+----------+----+\n",
      "|    9506819 | 1 BEEKMAN PLACE  ...|     1 BEEKMAN PLACE|       MANHATTAN|New York|     3101|         2|            Unknown|             Nenhuma|Institutional, Ed...|            gasoline|         Petroleum|     0.0|      Pounds|      0.0|  1995-09-05|   1995-09-05|2000-12-06|1995|\n",
      "|    9508616 |    1 EDGEWATER PLAZA|   1 EDGEWATER PLAZA|   STATEN ISLAND|Richmond|     4301|         2|            Unknown|           NY HARBOR|             Unknown|    unknown material|             Other|     0.0|     Gallons|      0.0|  1995-10-13|   1995-10-13|2003-02-13|1995|\n",
      "|    9511445 | 1 FERRY SLIP     ...|STATEN ISLAND FER...|   STATEN ISLAND|Richmond|     4301|         2|  Equipment Failure|UPPER NEW YORK HARBO|Institutional, Ed...|              diesel|         Petroleum|     0.0|     Gallons|      0.0|  1995-12-11|   1995-12-11|1995-12-11|1995|\n",
      "|    9509855 | 1 PROSPECT PARK W...|1 PROSPECT PARK WEST|        BROOKLYN|   Kings|     2401|         2|       Tank Failure|             Nenhuma|    Private Dwelling|         #2 fuel oil|         Petroleum|     0.0|     Gallons|      0.0|  1995-11-04|   1995-11-08|1996-09-23|1995|\n",
      "|    9503012 | 1 RICHMOND TERRAC...|  1 RICHMOND TERRACE|   STATEN ISLAND|Richmond|     4301|         2|        Human Error|          EAST RIVER|              Vessel|         #2 fuel oil|         Petroleum|     1.0|     Gallons|      0.0|  1995-06-09|   1995-06-09|1995-06-09|1995|\n",
      "|    9510231 | 1 SICKLES ST     ...|        1 SICKLES ST|       MANHATTAN|New York|     3101|         2|            Unknown|             Nenhuma|             Unknown|         2-propanone|Hazardous Material|     0.0|     Gallons|      0.0|  1995-11-15|   1995-11-15|1995-11-20|1995|\n",
      "|    9505632 | 1 WILSON AVENUE  ...|     1 WILSON AVENUE|        RICHMOND|Richmond|     4301|         2|  Equipment Failure|             Nenhuma|    Private Dwelling|         #2 fuel oil|         Petroleum|     1.0|     Gallons|      1.0|  1995-08-07|   1995-08-07|1998-04-30|1995|\n",
      "|    9505195 | 1-11 HUDSON AVENU...|  1-11 HUDSON AVENUE|        BROOKLYN|   Kings|     2401|         2|            Unknown|          EAST RIVER|             Unknown|  waste oil/used oil|         Petroleum|     0.0|     Gallons|      0.0|  1995-07-28|   1995-07-28|2004-01-20|1995|\n",
      "|    9504968 | 1-11 HUDSON AVENU...|  1-11 HUDSON AVENUE|        BROOKLYN|   Kings|     2401|         2|         Deliberate|          EAST RIVER|             Unknown|   unknown petroleum|         Petroleum|     5.0|     Gallons|      0.0|  1995-07-24|   1995-07-24|2004-01-20|1995|\n",
      "|    9501384 | 1-1102 JAMAICA AV...|1-1102 JAMAICA AV...|   RICHMOND HILL|  Queens|     4101|         2|      Tank Overfill|             Nenhuma|          Tank Truck|         #2 fuel oil|         Petroleum|     2.0|     Gallons|      0.0|  1995-05-03|   1995-05-02|1995-05-03|1995|\n",
      "|    9501744 | 1-5 7TH AVE SOUTH...|   1-5 7TH AVE SOUTH|        NEW YORK|New York|     3101|         2|  Equipment Failure|             Nenhuma|Gasoline Station ...|            gasoline|         Petroleum|     0.0|     Gallons|      0.0|  1995-05-10|   1995-05-11|2013-09-30|1995|\n",
      "|    9502878 | 10 CROSBY STREET ...|    10 CROSBY STREET|       MANHATTAN|New York|     3101|         2|  Equipment Failure|             Nenhuma|Commercial/Indust...|         #4 fuel oil|         Petroleum|    50.0|     Gallons|      0.0|  1995-06-07|   1995-06-07|2003-02-24|1995|\n",
      "|    9506878 | 10-26 53RD AVENUE...|   10-26 53RD AVENUE|LONG ISLAND CITY|  Queens|     4101|         2|            Unknown|             Nenhuma|             Unknown|                lead|Hazardous Material|     0.0|      Pounds|      0.0|  1995-09-06|   1995-09-06|1997-10-16|1995|\n",
      "|    9506878 | 10-26 53RD AVENUE...|   10-26 53RD AVENUE|LONG ISLAND CITY|  Queens|     4101|         2|            Unknown|             Nenhuma|             Unknown|   unknown petroleum|         Petroleum|     0.0|     Gallons|      0.0|  1995-09-06|   1995-09-06|1997-10-16|1995|\n",
      "|    9415189 | 100 EAST 18TH ST ...|    100 EAST 18TH ST|        BROOKLYN|   Kings|     2401|         2|      Tank Overfill|             Nenhuma|    Private Dwelling|         #6 fuel oil|         Petroleum|     5.0|     Gallons|      0.0|  1995-02-20|   1995-02-20|2004-01-26|1995|\n",
      "|    9502049 | 100 KRATZ AVE    ...|       100 KRATZ AVE|        SYRACUSE|Onondaga|     3415|         7|         Deliberate|             Nenhuma|Commercial/Indust...|       white caustic|Hazardous Material|     0.0|Desconhecida|      0.0|  1995-05-18|   1995-05-18|1995-05-18|1995|\n",
      "|    9509770 | 100 SUTTON ST    ...|       100 SUTTON ST|        BROOKLYN|   Kings|     2401|         2|         Deliberate|             Nenhuma|Commercial/Indust...|unknown hazardous...|Hazardous Material|     0.0|     Gallons|      0.0|  1995-11-07|   1995-11-07|1995-11-08|1995|\n",
      "|    9511396 | 100 WEST 73RD ST ...|    100 WEST 73RD ST|        NEW YORK|New York|     3101|         2|  Equipment Failure|             Nenhuma|             Unknown|         #2 fuel oil|         Petroleum|    20.0|     Gallons|      0.0|  1995-12-09|   1995-12-09|1998-11-10|1995|\n",
      "|    9506634 | 100-50 202ND STRE...| 100-50 202ND STREET|          HOLLIS|  Queens|     4101|         2|  Equipment Failure|             Nenhuma|    Private Dwelling|         #2 fuel oil|         Petroleum|     2.0|     Gallons|      2.0|  1995-08-29|   1995-08-30|1995-08-30|1995|\n",
      "|    9414305 | 100-52  205TH PLA...|  100-52 205TH PLACE|          HOLLIS|  Queens|     4101|         2|  Equipment Failure|             Nenhuma|    Private Dwelling|         #2 fuel oil|         Petroleum|     2.0|     Gallons|      2.0|  1995-01-29|   1995-01-29|1995-01-30|1995|\n",
      "+------------+---------------------+--------------------+----------------+--------+---------+----------+-------------------+--------------------+--------------------+--------------------+------------------+--------+------------+---------+------------+-------------+----------+----+\n",
      "only showing top 20 rows\n",
      "\n",
      "root\n",
      " |-- Spill_Number: string (nullable = true)\n",
      " |-- Program_Facility_Name: string (nullable = true)\n",
      " |-- Street: string (nullable = true)\n",
      " |-- Locality: string (nullable = true)\n",
      " |-- Contry: string (nullable = true)\n",
      " |-- SWIS_Code: integer (nullable = true)\n",
      " |-- DEC_Region: integer (nullable = true)\n",
      " |-- Contributing_Factor: string (nullable = true)\n",
      " |-- Waterbody: string (nullable = true)\n",
      " |-- Source: string (nullable = true)\n",
      " |-- Material_Name: string (nullable = true)\n",
      " |-- Material_Family: string (nullable = true)\n",
      " |-- Quantity: float (nullable = true)\n",
      " |-- Units: string (nullable = true)\n",
      " |-- Recovered: float (nullable = true)\n",
      " |-- Data_Derrame: date (nullable = true)\n",
      " |-- Data_Relatada: date (nullable = true)\n",
      " |-- Data_Fim: date (nullable = true)\n",
      " |-- Ano: integer (nullable = true)\n",
      "\n"
     ]
    }
   ],
   "source": [
    "from pyspark.sql.functions import substring, avg, sum\n",
    "\n",
    "# read air_quality from the silver tables\n",
    "hdfs_path = \"hdfs://hdfs-nn:9000/TrabalhoPL/silver/Projeto.db/Tabela_Petroleo\"\n",
    "\n",
    "tabela_petroleo = spark\\\n",
    "             .read\\\n",
    "             .load(hdfs_path)\n",
    "\n",
    "tabela_petroleo.show()\n",
    "tabela_petroleo.printSchema()"
   ]
  },
  {
   "cell_type": "code",
   "execution_count": 3,
   "id": "eff82e17-501d-4638-ac23-bd8c56b6a1b4",
   "metadata": {},
   "outputs": [
    {
     "name": "stdout",
     "output_type": "stream",
     "text": [
      "+--------------------+--------------------+--------------+\n",
      "|              Contry| Contributing_Factor|Derrames_Count|\n",
      "+--------------------+--------------------+--------------+\n",
      "|              Broome|Missing Code in O...|             5|\n",
      "|             Madison|             Unknown|           366|\n",
      "|            Richmond|         Human Error|           335|\n",
      "|            Cortland|   Equipment Failure|           463|\n",
      "|            Allegany|     Abandoned Drums|            33|\n",
      "|                Erie|             Unknown|          3413|\n",
      "|            Tompkins|        Tank Failure|           167|\n",
      "|              Cayuga|          Deliberate|           169|\n",
      "|          Chautauqua|   Tank Test Failure|            83|\n",
      "|            Cortland|          Deliberate|           104|\n",
      "|              Oswego|               Other|           397|\n",
      "|            Cortland|           Vandalism|             8|\n",
      "|              Oswego|     Abandoned Drums|            78|\n",
      "|            Chenango|    Traffic Accident|           160|\n",
      "|            Chenango|          Deliberate|            93|\n",
      "|                Erie|   Equipment Failure|          6732|\n",
      "|               Bronx|    Traffic Accident|           396|\n",
      "|New Jersey - Regi...|         Human Error|            38|\n",
      "|               Bronx|           Vandalism|            19|\n",
      "|              Oswego|         Human Error|           290|\n",
      "|              Oswego|    Traffic Accident|           397|\n",
      "|            Onondaga|       Tank Overfill|           323|\n",
      "|            Onondaga|         Human Error|           817|\n",
      "|             Madison|          Deliberate|           155|\n",
      "|                Erie|           Vandalism|           145|\n",
      "|                Erie|         Human Error|          1467|\n",
      "|             Madison|   Tank Test Failure|            65|\n",
      "|         Cattaraugus|               Other|           361|\n",
      "|            Cortland|     Abandoned Drums|            41|\n",
      "|            New York|        Housekeeping|           193|\n",
      "|             Niagara|          Deliberate|           390|\n",
      "|              Broome|       Tank Overfill|           148|\n",
      "|New Jersey - Regi...|          Deliberate|             3|\n",
      "|              Broome|    Traffic Accident|           612|\n",
      "|                Erie|          Deliberate|          1893|\n",
      "|New Jersey - Regi...|        Tank Failure|             6|\n",
      "|               Kings|          Deliberate|           564|\n",
      "|                Erie|       Tank Overfill|           336|\n",
      "|            Chenango|   Equipment Failure|           554|\n",
      "|             Madison|       Tank Overfill|            54|\n",
      "|New Jersey - Regi...|       Tank Overfill|            18|\n",
      "|             Wyoming|   Equipment Failure|           381|\n",
      "|            Allegany|   Equipment Failure|           418|\n",
      "|            New York|         Human Error|          1136|\n",
      "|               Kings|    Traffic Accident|           457|\n",
      "|               Tioga|    Traffic Accident|           204|\n",
      "|         Cattaraugus|          Deliberate|           152|\n",
      "|Pennsylvania - Re...|         Human Error|             2|\n",
      "|New Jersey - Regi...|   Equipment Failure|           106|\n",
      "|            New York|             Unknown|          6611|\n",
      "+--------------------+--------------------+--------------+\n",
      "only showing top 50 rows\n",
      "\n"
     ]
    }
   ],
   "source": [
    "from pyspark.sql.functions import count, countDistinct\n",
    "gold_petroleo = tabela_petroleo \\\n",
    "    .groupBy(\"Contry\", \"Contributing_Factor\")\\\n",
    "    .agg(\n",
    "        count(tabela_petroleo.Spill_Number).alias(\"Derrames_Count\"),\n",
    "    ) \\\n",
    "   \n",
    "gold_petroleo.show(50)"
   ]
  },
  {
   "cell_type": "code",
   "execution_count": 4,
   "id": "117f0659-b106-4725-b1d3-1903156854d7",
   "metadata": {},
   "outputs": [
    {
     "data": {
      "text/plain": [
       "DataFrame[]"
      ]
     },
     "execution_count": 4,
     "metadata": {},
     "output_type": "execute_result"
    }
   ],
   "source": [
    "# create air_quality table in gold\n",
    "spark.sql(\n",
    "    \"\"\"\n",
    "    DROP TABLE IF EXISTS Projeto_gold.Tabela_Petroleo_2\n",
    "    \"\"\"\n",
    ")\n",
    "\n",
    "spark.sql(\n",
    "    \"\"\"\n",
    "    CREATE EXTERNAL TABLE Projeto_gold.Tabela_Petroleo_2 (\n",
    "        Contry VARCHAR(100),\n",
    "        Contributing_Factor VARCHAR(250),\n",
    "        Derrames_Count LONG\n",
    "    )\n",
    "    USING DELTA\n",
    "    LOCATION 'hdfs://hdfs-nn:9000/TrabalhoPL/gold/Projeto_gold.db/Tabela_Petroleo_2/'\n",
    "    \"\"\"\n",
    ")\n",
    "        "
   ]
  },
  {
   "cell_type": "code",
   "execution_count": 5,
   "id": "3330c805-60fc-4142-b8ab-e9b6beaf9855",
   "metadata": {},
   "outputs": [],
   "source": [
    "# write to delta table\n",
    "gold_petroleo \\\n",
    "    .write  \\\n",
    "    .format(\"delta\") \\\n",
    "    .mode(\"overwrite\") \\\n",
    "    .save(\"hdfs://hdfs-nn:9000/TrabalhoPL/gold/Projeto_gold.db/Tabela_Petroleo_2/\")"
   ]
  },
  {
   "cell_type": "code",
   "execution_count": 6,
   "id": "e326cd54-75b0-465c-b1b9-7bca3cd2a5d1",
   "metadata": {},
   "outputs": [
    {
     "name": "stdout",
     "output_type": "stream",
     "text": [
      "+--------------------+--------------------+--------------+\n",
      "|              Contry| Contributing_Factor|Derrames_Count|\n",
      "+--------------------+--------------------+--------------+\n",
      "|              Broome|Missing Code in O...|             5|\n",
      "|             Madison|             Unknown|           366|\n",
      "|            Richmond|         Human Error|           335|\n",
      "|            Cortland|   Equipment Failure|           463|\n",
      "|            Allegany|     Abandoned Drums|            33|\n",
      "|                Erie|             Unknown|          3413|\n",
      "|            Tompkins|        Tank Failure|           167|\n",
      "|              Cayuga|          Deliberate|           169|\n",
      "|          Chautauqua|   Tank Test Failure|            83|\n",
      "|            Cortland|          Deliberate|           104|\n",
      "|              Oswego|               Other|           397|\n",
      "|            Cortland|           Vandalism|             8|\n",
      "|              Oswego|     Abandoned Drums|            78|\n",
      "|            Chenango|    Traffic Accident|           160|\n",
      "|            Chenango|          Deliberate|            93|\n",
      "|                Erie|   Equipment Failure|          6732|\n",
      "|               Bronx|    Traffic Accident|           396|\n",
      "|New Jersey - Regi...|         Human Error|            38|\n",
      "|               Bronx|           Vandalism|            19|\n",
      "|              Oswego|         Human Error|           290|\n",
      "|              Oswego|    Traffic Accident|           397|\n",
      "|            Onondaga|       Tank Overfill|           323|\n",
      "|            Onondaga|         Human Error|           817|\n",
      "|             Madison|          Deliberate|           155|\n",
      "|                Erie|           Vandalism|           145|\n",
      "|                Erie|         Human Error|          1467|\n",
      "|             Madison|   Tank Test Failure|            65|\n",
      "|         Cattaraugus|               Other|           361|\n",
      "|            Cortland|     Abandoned Drums|            41|\n",
      "|            New York|        Housekeeping|           193|\n",
      "|             Niagara|          Deliberate|           390|\n",
      "|              Broome|       Tank Overfill|           148|\n",
      "|New Jersey - Regi...|          Deliberate|             3|\n",
      "|              Broome|    Traffic Accident|           612|\n",
      "|                Erie|          Deliberate|          1893|\n",
      "|New Jersey - Regi...|        Tank Failure|             6|\n",
      "|               Kings|          Deliberate|           564|\n",
      "|                Erie|       Tank Overfill|           336|\n",
      "|            Chenango|   Equipment Failure|           554|\n",
      "|             Madison|       Tank Overfill|            54|\n",
      "|New Jersey - Regi...|       Tank Overfill|            18|\n",
      "|             Wyoming|   Equipment Failure|           381|\n",
      "|            Allegany|   Equipment Failure|           418|\n",
      "|            New York|         Human Error|          1136|\n",
      "|               Kings|    Traffic Accident|           457|\n",
      "|               Tioga|    Traffic Accident|           204|\n",
      "|         Cattaraugus|          Deliberate|           152|\n",
      "|Pennsylvania - Re...|         Human Error|             2|\n",
      "|New Jersey - Regi...|   Equipment Failure|           106|\n",
      "|            New York|             Unknown|          6611|\n",
      "+--------------------+--------------------+--------------+\n",
      "only showing top 50 rows\n",
      "\n"
     ]
    }
   ],
   "source": [
    "# check the results in the table\n",
    "spark.table(\"Projeto_gold.Tabela_Petroleo_2\").show(50)\n"
   ]
  },
  {
   "cell_type": "code",
   "execution_count": 9,
   "id": "2b8a2e03-9edb-4770-9539-13b6395a71c1",
   "metadata": {},
   "outputs": [
    {
     "name": "stdout",
     "output_type": "stream",
     "text": [
      "++\n",
      "||\n",
      "++\n",
      "++\n",
      "\n"
     ]
    }
   ],
   "source": [
    "spark.sql(\"\"\"\n",
    "GENERATE symlink_format_manifest FOR TABLE delta.`hdfs://hdfs-nn:9000/TrabalhoPL/gold/Projeto_gold.db/Tabela_Petroleo_2/`\n",
    "\"\"\").show()"
   ]
  },
  {
   "cell_type": "code",
   "execution_count": 10,
   "id": "c8e656b7-faf6-4ac4-8bb0-80063dc9baf9",
   "metadata": {},
   "outputs": [
    {
     "name": "stdout",
     "output_type": "stream",
     "text": [
      "++\n",
      "||\n",
      "++\n",
      "++\n",
      "\n",
      "++\n",
      "||\n",
      "++\n",
      "++\n",
      "\n"
     ]
    }
   ],
   "source": [
    "spark.sql(\"\"\"\n",
    "DROP TABLE IF EXISTS Projeto_gold.Tabela_Petroleo2_Presto \n",
    "\"\"\").show()\n",
    "\n",
    "spark.sql(\"\"\"\n",
    "    CREATE EXTERNAL TABLE Projeto_gold.Tabela_Petroleo2_Presto (\n",
    "        Contry VARCHAR(100),\n",
    "        Contributing_Factor VARCHAR(250),\n",
    "        Derrames_Count LONG\n",
    "    )\n",
    "ROW FORMAT SERDE 'org.apache.hadoop.hive.ql.io.parquet.serde.ParquetHiveSerDe'\n",
    "STORED AS INPUTFORMAT 'org.apache.hadoop.hive.ql.io.SymlinkTextInputFormat'\n",
    "OUTPUTFORMAT 'org.apache.hadoop.hive.ql.io.HiveIgnoreKeyTextOutputFormat'\n",
    "LOCATION 'hdfs://hdfs-nn:9000/TrabalhoPL/gold/Projeto_gold.db/Tabela_Petroleo_2/_symlink_format_manifest/'\n",
    "\"\"\").show()"
   ]
  },
  {
   "cell_type": "code",
   "execution_count": null,
   "id": "85efc675-9971-4880-932a-65b2ed298f88",
   "metadata": {},
   "outputs": [],
   "source": []
  }
 ],
 "metadata": {
  "kernelspec": {
   "display_name": "Python 3 (ipykernel)",
   "language": "python",
   "name": "python3"
  },
  "language_info": {
   "codemirror_mode": {
    "name": "ipython",
    "version": 3
   },
   "file_extension": ".py",
   "mimetype": "text/x-python",
   "name": "python",
   "nbconvert_exporter": "python",
   "pygments_lexer": "ipython3",
   "version": "3.10.6"
  }
 },
 "nbformat": 4,
 "nbformat_minor": 5
}
