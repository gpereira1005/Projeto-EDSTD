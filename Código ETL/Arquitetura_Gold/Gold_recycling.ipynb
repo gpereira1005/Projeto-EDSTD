{
 "cells": [
  {
   "cell_type": "code",
   "execution_count": null,
   "id": "12848078-12a8-4373-9ae9-41449944c965",
   "metadata": {},
   "outputs": [],
   "source": [
    "# Install dependencies\n",
    "\n",
    "import sys\n",
    "!{sys.executable} -m pip install hdfs"
   ]
  },
  {
   "cell_type": "code",
   "execution_count": 1,
   "id": "80c6d27a-efe2-4975-88a2-25a278a4ebf8",
   "metadata": {},
   "outputs": [
    {
     "name": "stdout",
     "output_type": "stream",
     "text": [
      "Requirement already satisfied: delta-spark in /opt/conda/lib/python3.10/site-packages (2.2.0)\n",
      "Requirement already satisfied: pyspark<3.4.0,>=3.3.0 in /usr/local/spark-3.3.0-bin-hadoop3/python (from delta-spark) (3.3.0)\n",
      "Requirement already satisfied: importlib-metadata>=1.0.0 in /opt/conda/lib/python3.10/site-packages (from delta-spark) (4.11.4)\n",
      "Requirement already satisfied: zipp>=0.5 in /opt/conda/lib/python3.10/site-packages (from importlib-metadata>=1.0.0->delta-spark) (3.9.0)\n",
      "Requirement already satisfied: py4j==0.10.9.5 in /opt/conda/lib/python3.10/site-packages (from pyspark<3.4.0,>=3.3.0->delta-spark) (0.10.9.5)\n",
      "Note: you may need to restart the kernel to use updated packages.\n"
     ]
    }
   ],
   "source": [
    "pip install delta-spark"
   ]
  },
  {
   "cell_type": "code",
   "execution_count": 8,
   "id": "e70e054f-5c03-4787-a6fa-672750e95ec1",
   "metadata": {},
   "outputs": [],
   "source": [
    "from pyspark.sql import SparkSession\n",
    "from pyspark.sql import Row\n",
    "from delta import *\n",
    "\n",
    "# warehouse_location points to the default location for managed databases and tables\n",
    "warehouse_location = 'hdfs://hdfs-nn:9000/TrabalhoPL/gold'\n",
    "\n",
    "builder = SparkSession \\\n",
    "    .builder \\\n",
    "    .appName(\"Python Spark SQL Hive integration example\") \\\n",
    "    .config(\"spark.sql.warehouse.dir\", warehouse_location) \\\n",
    "    .config(\"hive.metastore.uris\", \"thrift://hive-metastore:9083\") \\\n",
    "    .config(\"spark.sql.extensions\", \"io.delta.sql.DeltaSparkSessionExtension\") \\\n",
    "    .config(\"spark.sql.catalog.spark_catalog\", \"org.apache.spark.sql.delta.catalog.DeltaCatalog\") \\\n",
    "    .config(\"spark.jars.packages\", \"io.delta:delta-core_2.12:1.0.0\") \\\n",
    "    .enableHiveSupport() \\\n",
    "\n",
    "spark = spark = configure_spark_with_delta_pip(builder).getOrCreate()"
   ]
  },
  {
   "cell_type": "code",
   "execution_count": 2,
   "id": "dad49cc5-374e-4887-809d-e2db3e823d92",
   "metadata": {},
   "outputs": [
    {
     "data": {
      "text/plain": [
       "DataFrame[]"
      ]
     },
     "execution_count": 2,
     "metadata": {},
     "output_type": "execute_result"
    }
   ],
   "source": [
    "# create gold database\n",
    "spark.sql(\n",
    "    \"\"\"\n",
    "    DROP DATABASE IF EXISTS Projeto_gold CASCADE\n",
    "    \"\"\"\n",
    ")\n",
    "spark.sql(\n",
    "    \"\"\"\n",
    "    create database Projeto_gold location 'hdfs://hdfs-nn:9000/TrabalhoPL/gold/Projeto_gold.db'\n",
    "    \"\"\"\n",
    ")\n"
   ]
  },
  {
   "cell_type": "code",
   "execution_count": 9,
   "id": "d31abac9-0fb7-4fd6-9753-e3330d50e15a",
   "metadata": {},
   "outputs": [
    {
     "name": "stdout",
     "output_type": "stream",
     "text": [
      "+----------+--------+-------------------+----------+--------------------+------------------+----------------+------------------+-----------+\n",
      "|      Zone|District|Fiscal_Month_Number|Month_Name|Diversion_Rate_Total|Capture_Rate_Paper|Capture_Rate_MGP|Capture_Rate_Total|Fiscal_Year|\n",
      "+----------+--------+-------------------+----------+--------------------+------------------+----------------+------------------+-----------+\n",
      "|Brooklyn  |   BKN01|                 10|     April|                13.7|              41.0|            44.3|              42.3|       2016|\n",
      "|Brooklyn  |   BKN02|                 10|     April|                17.6|              33.2|            55.4|              39.8|       2016|\n",
      "|Brooklyn  |   BKN03|                 10|     April|                10.9|              30.5|            39.3|              34.1|       2016|\n",
      "|Brooklyn  |   BKN04|                 10|     April|                13.4|              30.3|            59.3|              42.1|       2016|\n",
      "|Brooklyn  |   BKN05|                 10|     April|                 9.6|              22.4|            41.6|              30.2|       2016|\n",
      "|Brooklyn  |   BKN08|                 10|     April|                15.2|              40.1|            55.8|              46.5|       2016|\n",
      "|Brooklyn  |   BKN09|                 10|     April|                11.7|              31.4|            42.9|              35.8|       2016|\n",
      "|Brooklyn  |   BKN16|                 10|     April|                 8.2|              21.2|            32.2|              25.7|       2016|\n",
      "|Brooklyn  |   BKN17|                 10|     April|                13.2|              29.5|            58.0|              40.3|       2016|\n",
      "|Brooklyn  |   BKS06|                 10|     April|                30.1|              47.4|            85.4|              58.6|       2016|\n",
      "|Brooklyn  |   BKS07|                 10|     April|                20.4|              47.2|            71.0|              56.2|       2016|\n",
      "|Brooklyn  |   BKS10|                 10|     April|                24.9|              57.3|            76.2|              64.4|       2016|\n",
      "|Brooklyn  |   BKS11|                 10|     April|                17.7|              47.3|            65.1|              54.1|       2016|\n",
      "|Brooklyn  |   BKS12|                 10|     April|                14.4|              47.5|            41.5|              45.0|       2016|\n",
      "|Brooklyn  |   BKS13|                 10|     April|                13.4|              39.6|            51.9|              44.9|       2016|\n",
      "|Brooklyn  |   BKS14|                 10|     April|                15.0|              36.9|            57.4|              43.9|       2016|\n",
      "|Brooklyn  |   BKS15|                 10|     April|                17.6|              48.5|            62.4|              53.8|       2016|\n",
      "|Brooklyn  |   BKS18|                 10|     April|                15.0|              41.6|            68.4|              51.1|       2016|\n",
      "|     Bronx|    BX01|                 10|     April|                 6.8|              19.7|            26.8|              22.8|       2016|\n",
      "|     Bronx|    BX02|                 10|     April|                12.5|              32.3|            54.3|              41.9|       2016|\n",
      "+----------+--------+-------------------+----------+--------------------+------------------+----------------+------------------+-----------+\n",
      "only showing top 20 rows\n",
      "\n",
      "root\n",
      " |-- Zone: string (nullable = true)\n",
      " |-- District: string (nullable = true)\n",
      " |-- Fiscal_Month_Number: integer (nullable = true)\n",
      " |-- Month_Name: string (nullable = true)\n",
      " |-- Diversion_Rate_Total: float (nullable = true)\n",
      " |-- Capture_Rate_Paper: float (nullable = true)\n",
      " |-- Capture_Rate_MGP: float (nullable = true)\n",
      " |-- Capture_Rate_Total: float (nullable = true)\n",
      " |-- Fiscal_Year: integer (nullable = true)\n",
      "\n"
     ]
    }
   ],
   "source": [
    "from pyspark.sql.functions import substring, avg, sum\n",
    "\n",
    "# read recycling from the silver tables\n",
    "hdfs_path = \"hdfs://hdfs-nn:9000/TrabalhoPL/silver/Projeto.db/Tabela_Reciclagem\"\n",
    "\n",
    "recycling = spark\\\n",
    "             .read\\\n",
    "             .load(hdfs_path)\n",
    "\n",
    "recycling.show()\n",
    "recycling.printSchema()"
   ]
  },
  {
   "cell_type": "code",
   "execution_count": 10,
   "id": "ca965029-3091-441d-b37b-b0fac534b8e5",
   "metadata": {},
   "outputs": [
    {
     "data": {
      "text/html": [
       "<div>\n",
       "<style scoped>\n",
       "    .dataframe tbody tr th:only-of-type {\n",
       "        vertical-align: middle;\n",
       "    }\n",
       "\n",
       "    .dataframe tbody tr th {\n",
       "        vertical-align: top;\n",
       "    }\n",
       "\n",
       "    .dataframe thead th {\n",
       "        text-align: right;\n",
       "    }\n",
       "</style>\n",
       "<table border=\"1\" class=\"dataframe\">\n",
       "  <thead>\n",
       "    <tr style=\"text-align: right;\">\n",
       "      <th></th>\n",
       "      <th>Zone</th>\n",
       "      <th>Total_Papel</th>\n",
       "      <th>Total_Vidro_Plastico</th>\n",
       "    </tr>\n",
       "  </thead>\n",
       "  <tbody>\n",
       "    <tr>\n",
       "      <th>0</th>\n",
       "      <td>Brooklyn</td>\n",
       "      <td>34107.399984</td>\n",
       "      <td>48414.000059</td>\n",
       "    </tr>\n",
       "    <tr>\n",
       "      <th>1</th>\n",
       "      <td>Queens</td>\n",
       "      <td>26562.899977</td>\n",
       "      <td>47233.899937</td>\n",
       "    </tr>\n",
       "    <tr>\n",
       "      <th>2</th>\n",
       "      <td>Staten Island</td>\n",
       "      <td>6406.499992</td>\n",
       "      <td>11181.599991</td>\n",
       "    </tr>\n",
       "    <tr>\n",
       "      <th>3</th>\n",
       "      <td>Manhattan</td>\n",
       "      <td>23585.999977</td>\n",
       "      <td>35775.500013</td>\n",
       "    </tr>\n",
       "    <tr>\n",
       "      <th>4</th>\n",
       "      <td>Bronx</td>\n",
       "      <td>18171.499985</td>\n",
       "      <td>30781.999977</td>\n",
       "    </tr>\n",
       "  </tbody>\n",
       "</table>\n",
       "</div>"
      ],
      "text/plain": [
       "            Zone   Total_Papel  Total_Vidro_Plastico\n",
       "0     Brooklyn    34107.399984          48414.000059\n",
       "1       Queens    26562.899977          47233.899937\n",
       "2  Staten Island   6406.499992          11181.599991\n",
       "3      Manhattan  23585.999977          35775.500013\n",
       "4          Bronx  18171.499985          30781.999977"
      ]
     },
     "execution_count": 10,
     "metadata": {},
     "output_type": "execute_result"
    }
   ],
   "source": [
    "from pyspark.sql.functions import count\n",
    "gold_recycling = recycling \\\n",
    "    .groupBy(\"Zone\")\\\n",
    "    .agg(\n",
    "        sum(recycling.Capture_Rate_Paper).alias(\"Total_Papel\"),\n",
    "        sum(recycling.Capture_Rate_MGP).alias(\"Total_Vidro_Plastico\")\n",
    "    ) \\\n",
    "   \n",
    "gold_recycling.toPandas()\n"
   ]
  },
  {
   "cell_type": "code",
   "execution_count": 11,
   "id": "220bae52-fcca-42e0-b6c6-6d95416e0494",
   "metadata": {},
   "outputs": [
    {
     "data": {
      "text/plain": [
       "DataFrame[]"
      ]
     },
     "execution_count": 11,
     "metadata": {},
     "output_type": "execute_result"
    }
   ],
   "source": [
    "# create recycling table in gold\n",
    "spark.sql(\n",
    "    \"\"\"\n",
    "    DROP TABLE IF EXISTS Projeto_gold.Tabela_Reciclagem\n",
    "    \"\"\"\n",
    ")\n",
    "\n",
    "\n",
    "spark.sql(\n",
    "    \"\"\"\n",
    "    CREATE EXTERNAL TABLE Projeto_gold.Tabela_Reciclagem (\n",
    "        Zone VARCHAR(250),\n",
    "        Total_Papel DOUBLE, \n",
    "        Total_Vidro_Plastico DOUBLE\n",
    "    )\n",
    "    USING DELTA\n",
    "    LOCATION 'hdfs://hdfs-nn:9000/TrabalhoPL/gold/Projeto_gold.db/Tabela_Reciclagem/'\n",
    "    \"\"\"\n",
    ")\n",
    "       \n",
    " "
   ]
  },
  {
   "cell_type": "code",
   "execution_count": 12,
   "id": "1779cef3-a8b3-4b97-b732-2a8789d29b6a",
   "metadata": {},
   "outputs": [],
   "source": [
    "# write to delta table\n",
    "gold_recycling \\\n",
    "    .write  \\\n",
    "    .format(\"delta\") \\\n",
    "    .mode(\"overwrite\") \\\n",
    "    .save(\"hdfs://hdfs-nn:9000/TrabalhoPL/gold/Projeto_gold.db/Tabela_Reciclagem/\")"
   ]
  },
  {
   "cell_type": "code",
   "execution_count": 13,
   "id": "8aada780-a8da-45c1-af71-0119772394bf",
   "metadata": {},
   "outputs": [
    {
     "data": {
      "text/html": [
       "<div>\n",
       "<style scoped>\n",
       "    .dataframe tbody tr th:only-of-type {\n",
       "        vertical-align: middle;\n",
       "    }\n",
       "\n",
       "    .dataframe tbody tr th {\n",
       "        vertical-align: top;\n",
       "    }\n",
       "\n",
       "    .dataframe thead th {\n",
       "        text-align: right;\n",
       "    }\n",
       "</style>\n",
       "<table border=\"1\" class=\"dataframe\">\n",
       "  <thead>\n",
       "    <tr style=\"text-align: right;\">\n",
       "      <th></th>\n",
       "      <th>Zone</th>\n",
       "      <th>Total_Papel</th>\n",
       "      <th>Total_Vidro_Plastico</th>\n",
       "    </tr>\n",
       "  </thead>\n",
       "  <tbody>\n",
       "    <tr>\n",
       "      <th>0</th>\n",
       "      <td>Brooklyn</td>\n",
       "      <td>34107.399984</td>\n",
       "      <td>48414.000059</td>\n",
       "    </tr>\n",
       "    <tr>\n",
       "      <th>1</th>\n",
       "      <td>Queens</td>\n",
       "      <td>26562.899977</td>\n",
       "      <td>47233.899937</td>\n",
       "    </tr>\n",
       "    <tr>\n",
       "      <th>2</th>\n",
       "      <td>Staten Island</td>\n",
       "      <td>6406.499992</td>\n",
       "      <td>11181.599991</td>\n",
       "    </tr>\n",
       "    <tr>\n",
       "      <th>3</th>\n",
       "      <td>Manhattan</td>\n",
       "      <td>23585.999977</td>\n",
       "      <td>35775.500013</td>\n",
       "    </tr>\n",
       "    <tr>\n",
       "      <th>4</th>\n",
       "      <td>Bronx</td>\n",
       "      <td>18171.499985</td>\n",
       "      <td>30781.999977</td>\n",
       "    </tr>\n",
       "  </tbody>\n",
       "</table>\n",
       "</div>"
      ],
      "text/plain": [
       "            Zone   Total_Papel  Total_Vidro_Plastico\n",
       "0     Brooklyn    34107.399984          48414.000059\n",
       "1       Queens    26562.899977          47233.899937\n",
       "2  Staten Island   6406.499992          11181.599991\n",
       "3      Manhattan  23585.999977          35775.500013\n",
       "4          Bronx  18171.499985          30781.999977"
      ]
     },
     "execution_count": 13,
     "metadata": {},
     "output_type": "execute_result"
    }
   ],
   "source": [
    "# check the results in the table\n",
    "spark.table(\"Projeto_gold.Tabela_Reciclagem\").toPandas()\n"
   ]
  },
  {
   "cell_type": "code",
   "execution_count": 14,
   "id": "ee3cea41-9438-496e-8d94-ae7f91813fa9",
   "metadata": {},
   "outputs": [
    {
     "name": "stdout",
     "output_type": "stream",
     "text": [
      "++\n",
      "||\n",
      "++\n",
      "++\n",
      "\n"
     ]
    }
   ],
   "source": [
    "spark.sql(\"\"\"\n",
    "GENERATE symlink_format_manifest FOR TABLE delta.`hdfs://hdfs-nn:9000/TrabalhoPL/gold/Projeto_gold.db/Tabela_Reciclagem/`\n",
    "\"\"\").show()"
   ]
  },
  {
   "cell_type": "code",
   "execution_count": 15,
   "id": "eb1b1932-53b9-4eed-8b41-501dbfb50ccb",
   "metadata": {},
   "outputs": [
    {
     "name": "stdout",
     "output_type": "stream",
     "text": [
      "++\n",
      "||\n",
      "++\n",
      "++\n",
      "\n",
      "++\n",
      "||\n",
      "++\n",
      "++\n",
      "\n"
     ]
    }
   ],
   "source": [
    "spark.sql(\"\"\"\n",
    "DROP TABLE IF EXISTS Projeto_gold.Tabela_Reciclagem_Presto\n",
    "\"\"\").show()\n",
    "\n",
    "spark.sql(\"\"\"\n",
    "    CREATE EXTERNAL TABLE Projeto_gold.Tabela_Reciclagem_Presto (\n",
    "        Zone VARCHAR(250),\n",
    "        Total_Papel DOUBLE, \n",
    "        Total_Vidro_Plastico DOUBLE\n",
    "    )\n",
    "ROW FORMAT SERDE 'org.apache.hadoop.hive.ql.io.parquet.serde.ParquetHiveSerDe'\n",
    "STORED AS INPUTFORMAT 'org.apache.hadoop.hive.ql.io.SymlinkTextInputFormat'\n",
    "OUTPUTFORMAT 'org.apache.hadoop.hive.ql.io.HiveIgnoreKeyTextOutputFormat'\n",
    "LOCATION 'hdfs://hdfs-nn:9000/TrabalhoPL/gold/Projeto_gold.db/Tabela_Reciclagem/_symlink_format_manifest/'\n",
    "\"\"\").show()"
   ]
  },
  {
   "cell_type": "code",
   "execution_count": null,
   "id": "8dcacbee-6118-4f78-ab1f-dd808d069d31",
   "metadata": {},
   "outputs": [],
   "source": []
  }
 ],
 "metadata": {
  "kernelspec": {
   "display_name": "Python 3 (ipykernel)",
   "language": "python",
   "name": "python3"
  },
  "language_info": {
   "codemirror_mode": {
    "name": "ipython",
    "version": 3
   },
   "file_extension": ".py",
   "mimetype": "text/x-python",
   "name": "python",
   "nbconvert_exporter": "python",
   "pygments_lexer": "ipython3",
   "version": "3.10.6"
  }
 },
 "nbformat": 4,
 "nbformat_minor": 5
}
