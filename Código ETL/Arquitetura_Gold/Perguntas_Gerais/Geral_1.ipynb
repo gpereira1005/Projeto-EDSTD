{
 "cells": [
  {
   "cell_type": "code",
   "execution_count": 2,
   "id": "f0f2cb99-99df-467b-8b1f-6f5796c021be",
   "metadata": {},
   "outputs": [],
   "source": [
    "from pyspark.sql import SparkSession\n",
    "from pyspark.sql import Row\n",
    "from delta import *\n",
    "\n",
    "# warehouse_location points to the default location for managed databases and tables\n",
    "warehouse_location = 'hdfs://hdfs-nn:9000/TrabalhoPL'\n",
    "\n",
    "builder = SparkSession \\\n",
    "    .builder \\\n",
    "    .appName(\"Python Spark SQL Hive integration example\") \\\n",
    "    .config(\"spark.sql.warehouse.dir\", warehouse_location) \\\n",
    "    .config(\"hive.metastore.uris\", \"thrift://hive-metastore:9083\") \\\n",
    "    .config(\"spark.sql.extensions\", \"io.delta.sql.DeltaSparkSessionExtension\") \\\n",
    "    .config(\"spark.sql.catalog.spark_catalog\", \"org.apache.spark.sql.delta.catalog.DeltaCatalog\") \\\n",
    "    .config(\"spark.jars.packages\", \"io.delta:delta-core_2.12:1.0.0\") \\\n",
    "    .enableHiveSupport() \\\n",
    "\n",
    "spark = spark = configure_spark_with_delta_pip(builder).getOrCreate()"
   ]
  },
  {
   "cell_type": "code",
   "execution_count": 36,
   "id": "b70582b7-1ec1-46d7-ae25-0e7b52c75c1b",
   "metadata": {},
   "outputs": [
    {
     "data": {
      "text/plain": [
       "DataFrame[]"
      ]
     },
     "execution_count": 36,
     "metadata": {},
     "output_type": "execute_result"
    }
   ],
   "source": [
    "spark.sql(\n",
    "    \"\"\"\n",
    "    drop table if exists Projeto_gold.Geral_1\n",
    "    \"\"\"\n",
    ")"
   ]
  },
  {
   "cell_type": "code",
   "execution_count": 50,
   "id": "8400a944-c125-4da8-b376-d9a6c0d61266",
   "metadata": {},
   "outputs": [
    {
     "name": "stdout",
     "output_type": "stream",
     "text": [
      "+----+--------------+\n",
      "| Ano|Derrames_Count|\n",
      "+----+--------------+\n",
      "|1994|          5730|\n",
      "|1996|          6673|\n",
      "|1998|          6537|\n",
      "|2009|          5195|\n",
      "|1995|          6232|\n",
      "|2000|          7434|\n",
      "|2008|          5834|\n",
      "|1999|          7668|\n",
      "|1993|          5024|\n",
      "|2003|          5749|\n",
      "|2007|          5705|\n",
      "|2006|          6092|\n",
      "|1997|          5093|\n",
      "|2004|          6169|\n",
      "|1992|          4579|\n",
      "|2005|          5793|\n",
      "|1990|          4071|\n",
      "|1991|          3998|\n",
      "|2012|          5295|\n",
      "|2001|          6128|\n",
      "+----+--------------+\n",
      "only showing top 20 rows\n",
      "\n",
      "+----+--------------------+-------------------+\n",
      "| Ano|             Analyte|              Media|\n",
      "+----+--------------------+-------------------+\n",
      "|1999|Phosphorus, Total...| 16.513007284079084|\n",
      "|1999|Soluble Reactive ...| 16.395276497695853|\n",
      "|1997|Copper, Total (Un...| 3.2553956834532376|\n",
      "|1998|Mercury, Total (U...|                0.3|\n",
      "|1999|     Coliform, Fecal| 171.11699164345404|\n",
      "|1998|Nitrate/Nitrite (...|0.38505833333333256|\n",
      "|1998|     Field Turbidity| 0.5583333333333335|\n",
      "|1999|Lead, Total (Undi...|  4.691044776119404|\n",
      "|1999|                 BOD|                2.5|\n",
      "|1997|    Dissolved Oxygen| 10.635762224084955|\n",
      "|1997|     Field Turbidity| 0.5865384615384616|\n",
      "|1999|Mercury, Total (U...|               null|\n",
      "|1998|Soluble Reactive ...|  18.07328072153326|\n",
      "|1999|         Temperature|  9.570623828647934|\n",
      "|1998|    Sulfate (as SO4)|  7.156559940431868|\n",
      "|1998|Nitrogen, Total (...| 0.6304313017751476|\n",
      "|1999|    Ammonia (as NH3)|              0.063|\n",
      "|1998|Aluminum, Total (...| 108.66878748370263|\n",
      "|1999|Potassium, Total ...| 1.3792588724035608|\n",
      "|1998|Manganese, Dissol...|              0.002|\n",
      "+----+--------------------+-------------------+\n",
      "only showing top 20 rows\n",
      "\n"
     ]
    }
   ],
   "source": [
    "petroleo = spark.table(\"Projeto_Gold.Tabela_Petroleo\")\n",
    "agua = spark.table(\"Projeto_Gold.Tabela_Agua_4\")\n",
    "petroleo.show()\n",
    "agua.show()"
   ]
  },
  {
   "cell_type": "code",
   "execution_count": 51,
   "id": "63356c7c-4a83-41bf-a29a-65a4e513ed29",
   "metadata": {},
   "outputs": [],
   "source": [
    "geral = agua.join(petroleo, (agua.Ano == petroleo.Ano),\"inner\")"
   ]
  },
  {
   "cell_type": "code",
   "execution_count": 52,
   "id": "2471f6d8-9a35-4652-945f-a37ef061d330",
   "metadata": {},
   "outputs": [],
   "source": [
    "geral = geral.drop(petroleo.Ano)"
   ]
  },
  {
   "cell_type": "code",
   "execution_count": 53,
   "id": "133ed3e1-4ee0-4f68-a8aa-4d1d99806d19",
   "metadata": {},
   "outputs": [
    {
     "data": {
      "text/html": [
       "<div>\n",
       "<style scoped>\n",
       "    .dataframe tbody tr th:only-of-type {\n",
       "        vertical-align: middle;\n",
       "    }\n",
       "\n",
       "    .dataframe tbody tr th {\n",
       "        vertical-align: top;\n",
       "    }\n",
       "\n",
       "    .dataframe thead th {\n",
       "        text-align: right;\n",
       "    }\n",
       "</style>\n",
       "<table border=\"1\" class=\"dataframe\">\n",
       "  <thead>\n",
       "    <tr style=\"text-align: right;\">\n",
       "      <th></th>\n",
       "      <th>Ano</th>\n",
       "      <th>Analyte</th>\n",
       "      <th>Media</th>\n",
       "      <th>Derrames_Count</th>\n",
       "    </tr>\n",
       "  </thead>\n",
       "  <tbody>\n",
       "    <tr>\n",
       "      <th>0</th>\n",
       "      <td>1999</td>\n",
       "      <td>Phosphorus, Total Dissolved (as P)</td>\n",
       "      <td>16.513007</td>\n",
       "      <td>7668</td>\n",
       "    </tr>\n",
       "    <tr>\n",
       "      <th>1</th>\n",
       "      <td>1999</td>\n",
       "      <td>Soluble Reactive Phosphorus (as P)</td>\n",
       "      <td>16.395276</td>\n",
       "      <td>7668</td>\n",
       "    </tr>\n",
       "    <tr>\n",
       "      <th>2</th>\n",
       "      <td>1997</td>\n",
       "      <td>Copper, Total (Undigested)</td>\n",
       "      <td>3.255396</td>\n",
       "      <td>5093</td>\n",
       "    </tr>\n",
       "    <tr>\n",
       "      <th>3</th>\n",
       "      <td>1998</td>\n",
       "      <td>Mercury, Total (Undigested)</td>\n",
       "      <td>0.300000</td>\n",
       "      <td>6537</td>\n",
       "    </tr>\n",
       "    <tr>\n",
       "      <th>4</th>\n",
       "      <td>1999</td>\n",
       "      <td>Coliform, Fecal</td>\n",
       "      <td>171.116992</td>\n",
       "      <td>7668</td>\n",
       "    </tr>\n",
       "    <tr>\n",
       "      <th>...</th>\n",
       "      <td>...</td>\n",
       "      <td>...</td>\n",
       "      <td>...</td>\n",
       "      <td>...</td>\n",
       "    </tr>\n",
       "    <tr>\n",
       "      <th>1846</th>\n",
       "      <td>2013</td>\n",
       "      <td>Apparent Color</td>\n",
       "      <td>26.388889</td>\n",
       "      <td>3747</td>\n",
       "    </tr>\n",
       "    <tr>\n",
       "      <th>1847</th>\n",
       "      <td>2013</td>\n",
       "      <td>Bird 2 Gull</td>\n",
       "      <td>NaN</td>\n",
       "      <td>3747</td>\n",
       "    </tr>\n",
       "    <tr>\n",
       "      <th>1848</th>\n",
       "      <td>2013</td>\n",
       "      <td>Phosphorus, Total Dissolved (as P)</td>\n",
       "      <td>14.000883</td>\n",
       "      <td>3747</td>\n",
       "    </tr>\n",
       "    <tr>\n",
       "      <th>1849</th>\n",
       "      <td>2013</td>\n",
       "      <td>Chloride</td>\n",
       "      <td>28.524927</td>\n",
       "      <td>3747</td>\n",
       "    </tr>\n",
       "    <tr>\n",
       "      <th>1850</th>\n",
       "      <td>2013</td>\n",
       "      <td>Temperature</td>\n",
       "      <td>9.932264</td>\n",
       "      <td>3747</td>\n",
       "    </tr>\n",
       "  </tbody>\n",
       "</table>\n",
       "<p>1851 rows × 4 columns</p>\n",
       "</div>"
      ],
      "text/plain": [
       "       Ano                             Analyte       Media  Derrames_Count\n",
       "0     1999  Phosphorus, Total Dissolved (as P)   16.513007            7668\n",
       "1     1999  Soluble Reactive Phosphorus (as P)   16.395276            7668\n",
       "2     1997          Copper, Total (Undigested)    3.255396            5093\n",
       "3     1998         Mercury, Total (Undigested)    0.300000            6537\n",
       "4     1999                     Coliform, Fecal  171.116992            7668\n",
       "...    ...                                 ...         ...             ...\n",
       "1846  2013                      Apparent Color   26.388889            3747\n",
       "1847  2013                         Bird 2 Gull         NaN            3747\n",
       "1848  2013  Phosphorus, Total Dissolved (as P)   14.000883            3747\n",
       "1849  2013                            Chloride   28.524927            3747\n",
       "1850  2013                         Temperature    9.932264            3747\n",
       "\n",
       "[1851 rows x 4 columns]"
      ]
     },
     "execution_count": 53,
     "metadata": {},
     "output_type": "execute_result"
    }
   ],
   "source": [
    "geral.toPandas()"
   ]
  },
  {
   "cell_type": "code",
   "execution_count": 41,
   "id": "c709cdce-3cbb-45c2-9440-b14333689462",
   "metadata": {},
   "outputs": [
    {
     "data": {
      "text/plain": [
       "DataFrame[]"
      ]
     },
     "execution_count": 41,
     "metadata": {},
     "output_type": "execute_result"
    }
   ],
   "source": [
    "spark.sql(\"\"\"\n",
    "DROP TABLE IF EXISTS Projeto_gold.Geral_1\n",
    "\"\"\")\n",
    "\n",
    "spark.sql(\n",
    "    \"\"\"\n",
    "    CREATE EXTERNAL TABLE Projeto_gold.Geral_1 (\n",
    "        Ano INT, \n",
    "        Analyte VARCHAR(250), \n",
    "        Media DOUBLE, \n",
    "        Derrames_Count LONG\n",
    "    )\n",
    "    USING DELTA\n",
    "    LOCATION 'hdfs://hdfs-nn:9000/TrabalhoPL/gold/Projeto_gold.db/Geral_1'\n",
    "    \"\"\"\n",
    ")"
   ]
  },
  {
   "cell_type": "code",
   "execution_count": 42,
   "id": "27971bf9-52dd-411f-bb1b-215371ec54f3",
   "metadata": {},
   "outputs": [],
   "source": [
    "geral \\\n",
    "    .write \\\n",
    "    .format(\"delta\") \\\n",
    "    .mode(\"overwrite\") \\\n",
    "    .option(\"mergeSchema\", \"true\")\\\n",
    "    .save(\"hdfs://hdfs-nn:9000/TrabalhoPL/gold/Projeto_gold.db/Geral_1\")"
   ]
  },
  {
   "cell_type": "code",
   "execution_count": 43,
   "id": "6269a9f1-bff1-41a0-92ed-b27809f88dc2",
   "metadata": {},
   "outputs": [
    {
     "name": "stdout",
     "output_type": "stream",
     "text": [
      "+----+--------------------+-------------------+--------------+\n",
      "| Ano|             Analyte|              Media|Derrames_Count|\n",
      "+----+--------------------+-------------------+--------------+\n",
      "|1999|Phosphorus, Total...| 16.513007284079084|          7668|\n",
      "|1999|Soluble Reactive ...| 16.395276497695853|          7668|\n",
      "|1997|Copper, Total (Un...| 3.2553956834532376|          5093|\n",
      "|1998|Mercury, Total (U...|                0.3|          6537|\n",
      "|1999|     Coliform, Fecal| 171.11699164345404|          7668|\n",
      "|1998|Nitrate/Nitrite (...|0.38505833333333256|          6537|\n",
      "|1998|     Field Turbidity| 0.5583333333333335|          6537|\n",
      "|1999|Lead, Total (Undi...|  4.691044776119404|          7668|\n",
      "|1999|                 BOD|                2.5|          7668|\n",
      "|1997|    Dissolved Oxygen| 10.635762224084955|          5093|\n",
      "|1997|     Field Turbidity| 0.5865384615384616|          5093|\n",
      "|1999|Mercury, Total (U...|               null|          7668|\n",
      "|1998|Soluble Reactive ...|  18.07328072153326|          6537|\n",
      "|1999|         Temperature|  9.570623828647934|          7668|\n",
      "|1998|    Sulfate (as SO4)|  7.156559940431868|          6537|\n",
      "|1998|Nitrogen, Total (...| 0.6304313017751476|          6537|\n",
      "|1999|    Ammonia (as NH3)|              0.063|          7668|\n",
      "|1998|Aluminum, Total (...| 108.66878748370263|          6537|\n",
      "|1999|Potassium, Total ...| 1.3792588724035608|          7668|\n",
      "|1998|Manganese, Dissol...|              0.002|          6537|\n",
      "+----+--------------------+-------------------+--------------+\n",
      "only showing top 20 rows\n",
      "\n"
     ]
    }
   ],
   "source": [
    "spark.table(\"Projeto_gold.Geral_1\").show()"
   ]
  },
  {
   "cell_type": "code",
   "execution_count": 46,
   "id": "4ee2b9a6-8894-46b6-a6f3-a360788a6e86",
   "metadata": {},
   "outputs": [
    {
     "name": "stdout",
     "output_type": "stream",
     "text": [
      "++\n",
      "||\n",
      "++\n",
      "++\n",
      "\n"
     ]
    }
   ],
   "source": [
    "spark.sql(\"\"\"\n",
    "GENERATE symlink_format_manifest FOR TABLE delta.`hdfs://hdfs-nn:9000/TrabalhoPL/gold/Projeto_gold.db/Geral_1/`\n",
    "\"\"\").show()"
   ]
  },
  {
   "cell_type": "code",
   "execution_count": 48,
   "id": "2832f6b0-6a75-4677-9060-bea222d3e994",
   "metadata": {},
   "outputs": [
    {
     "name": "stdout",
     "output_type": "stream",
     "text": [
      "++\n",
      "||\n",
      "++\n",
      "++\n",
      "\n",
      "++\n",
      "||\n",
      "++\n",
      "++\n",
      "\n"
     ]
    }
   ],
   "source": [
    "spark.sql(\"\"\"\n",
    "DROP TABLE IF EXISTS Projeto_gold.Geral_Presto_1\n",
    "\"\"\").show()\n",
    "\n",
    "spark.sql(\"\"\"\n",
    "    CREATE EXTERNAL TABLE IF NOT EXISTS Projeto_gold.Geral_Presto_1 (\n",
    "        Ano INT, \n",
    "        Analyte VARCHAR(250), \n",
    "        Media DOUBLE, \n",
    "        Derrames_Count LONG\n",
    "    )\n",
    "    ROW FORMAT SERDE 'org.apache.hadoop.hive.ql.io.parquet.serde.ParquetHiveSerDe'\n",
    "    STORED AS INPUTFORMAT 'org.apache.hadoop.hive.ql.io.SymlinkTextInputFormat'\n",
    "    OUTPUTFORMAT 'org.apache.hadoop.hive.ql.io.HiveIgnoreKeyTextOutputFormat'\n",
    "    LOCATION 'hdfs://hdfs-nn:9000/TrabalhoPL/gold/Projeto_gold.db/Geral_1/_symlink_format_manifest/'\n",
    "    \"\"\").show()"
   ]
  },
  {
   "cell_type": "code",
   "execution_count": 16,
   "id": "b739769e-a876-4e95-8c4e-e8991f9af343",
   "metadata": {},
   "outputs": [
    {
     "data": {
      "text/plain": [
       "DataFrame[]"
      ]
     },
     "execution_count": 16,
     "metadata": {},
     "output_type": "execute_result"
    }
   ],
   "source": []
  },
  {
   "cell_type": "code",
   "execution_count": null,
   "id": "a53f8ba6-8a6e-4879-b9c4-c1b5f6c44c18",
   "metadata": {},
   "outputs": [],
   "source": []
  }
 ],
 "metadata": {
  "kernelspec": {
   "display_name": "Python 3 (ipykernel)",
   "language": "python",
   "name": "python3"
  },
  "language_info": {
   "codemirror_mode": {
    "name": "ipython",
    "version": 3
   },
   "file_extension": ".py",
   "mimetype": "text/x-python",
   "name": "python",
   "nbconvert_exporter": "python",
   "pygments_lexer": "ipython3",
   "version": "3.10.6"
  }
 },
 "nbformat": 4,
 "nbformat_minor": 5
}
