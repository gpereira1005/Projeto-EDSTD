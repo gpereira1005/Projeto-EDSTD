{
 "cells": [
  {
   "cell_type": "code",
   "execution_count": 1,
   "id": "f0f2cb99-99df-467b-8b1f-6f5796c021be",
   "metadata": {},
   "outputs": [],
   "source": [
    "from pyspark.sql import SparkSession\n",
    "from pyspark.sql import Row\n",
    "from delta import *\n",
    "\n",
    "# warehouse_location points to the default location for managed databases and tables\n",
    "warehouse_location = 'hdfs://hdfs-nn:9000/TrabalhoPL'\n",
    "\n",
    "builder = SparkSession \\\n",
    "    .builder \\\n",
    "    .appName(\"Python Spark SQL Hive integration example\") \\\n",
    "    .config(\"spark.sql.warehouse.dir\", warehouse_location) \\\n",
    "    .config(\"hive.metastore.uris\", \"thrift://hive-metastore:9083\") \\\n",
    "    .config(\"spark.sql.extensions\", \"io.delta.sql.DeltaSparkSessionExtension\") \\\n",
    "    .config(\"spark.sql.catalog.spark_catalog\", \"org.apache.spark.sql.delta.catalog.DeltaCatalog\") \\\n",
    "    .config(\"spark.jars.packages\", \"io.delta:delta-core_2.12:1.0.0\") \\\n",
    "    .enableHiveSupport() \\\n",
    "\n",
    "spark = spark = configure_spark_with_delta_pip(builder).getOrCreate()"
   ]
  },
  {
   "cell_type": "code",
   "execution_count": 2,
   "id": "b70582b7-1ec1-46d7-ae25-0e7b52c75c1b",
   "metadata": {},
   "outputs": [
    {
     "data": {
      "text/plain": [
       "DataFrame[]"
      ]
     },
     "execution_count": 2,
     "metadata": {},
     "output_type": "execute_result"
    }
   ],
   "source": [
    "spark.sql(\n",
    "    \"\"\"\n",
    "    drop table if exists Projeto_gold.Geral_2\n",
    "    \"\"\"\n",
    ")"
   ]
  },
  {
   "cell_type": "code",
   "execution_count": 17,
   "id": "8400a944-c125-4da8-b376-d9a6c0d61266",
   "metadata": {},
   "outputs": [
    {
     "name": "stdout",
     "output_type": "stream",
     "text": [
      "+----+--------------------+-------------------+\n",
      "| Ano|                Name|           Media_Ar|\n",
      "+----+--------------------+-------------------+\n",
      "|2009|PM2.5-Attributabl...|  73.48229187726974|\n",
      "|2015|PM2.5-Attributabl...|  54.18229158222675|\n",
      "|2009|Fine Particulate ...| 10.531465733304938|\n",
      "|2009|PM2.5-Attributabl...|  49.25833344459534|\n",
      "|2015|PM2.5-Attributabl...|  38.55625029404958|\n",
      "|2015|Boiler Emissions-...|  51.28333353996277|\n",
      "|2009|O3-Attributable A...|  76.27187449733417|\n",
      "|2015|O3-Attributable A...| 10.589583413675427|\n",
      "|2009|Nitrogen Dioxide ...|  24.26985812807196|\n",
      "|2015|Boiler Emissions-...|  7.752083425720532|\n",
      "|2009|Sulfur Dioxide (SO2)| 3.7139007123649543|\n",
      "|2015|Boiler Emissions-...|  1.087499991680185|\n",
      "|2009|O3-Attributable A...| 14.052083270003399|\n",
      "|2009|          Ozone (O3)| 24.762978689044925|\n",
      "|2009|PM2.5-Attributabl...| 17.708333154519398|\n",
      "|2015|Sulfur Dioxide (SO2)|0.26595744670282867|\n",
      "|2015|          Ozone (O3)|  30.91090568921245|\n",
      "|2009|O3-Attributable C...| 4.8729166487852735|\n",
      "|2009|PM2.5-Attributabl...|  14.44375005364418|\n",
      "|2015|PM2.5-Attributabl...| 16.989583273728687|\n",
      "+----+--------------------+-------------------+\n",
      "only showing top 20 rows\n",
      "\n",
      "+----+--------------------+-------------------+\n",
      "| Ano|             Analyte|         Media_Agua|\n",
      "+----+--------------------+-------------------+\n",
      "|1999|Phosphorus, Total...| 16.513007284079084|\n",
      "|1999|Soluble Reactive ...| 16.395276497695853|\n",
      "|1997|Copper, Total (Un...| 3.2553956834532376|\n",
      "|1998|Mercury, Total (U...|                0.3|\n",
      "|1999|     Coliform, Fecal| 171.11699164345404|\n",
      "|1998|Nitrate/Nitrite (...|0.38505833333333256|\n",
      "|1998|     Field Turbidity| 0.5583333333333335|\n",
      "|1999|Lead, Total (Undi...|  4.691044776119404|\n",
      "|1999|                 BOD|                2.5|\n",
      "|1997|    Dissolved Oxygen| 10.635762224084955|\n",
      "|1997|     Field Turbidity| 0.5865384615384616|\n",
      "|1999|Mercury, Total (U...|               null|\n",
      "|1998|Soluble Reactive ...|  18.07328072153326|\n",
      "|1999|         Temperature|  9.570623828647934|\n",
      "|1998|    Sulfate (as SO4)|  7.156559940431868|\n",
      "|1998|Nitrogen, Total (...| 0.6304313017751476|\n",
      "|1999|    Ammonia (as NH3)|              0.063|\n",
      "|1998|Aluminum, Total (...| 108.66878748370263|\n",
      "|1999|Potassium, Total ...| 1.3792588724035608|\n",
      "|1998|Manganese, Dissol...|              0.002|\n",
      "+----+--------------------+-------------------+\n",
      "only showing top 20 rows\n",
      "\n"
     ]
    }
   ],
   "source": [
    "ar = spark.table(\"Projeto_Gold.Tabela_Ar_2\")\n",
    "ar = ar.withColumnRenamed(\"Media\",\"Media_Ar\")\n",
    "agua = spark.table(\"Projeto_Gold.Tabela_Agua_4\")\n",
    "agua = agua.withColumnRenamed(\"Media\",\"Media_Agua\")\n",
    "ar.show()\n",
    "agua.show()"
   ]
  },
  {
   "cell_type": "code",
   "execution_count": 18,
   "id": "63356c7c-4a83-41bf-a29a-65a4e513ed29",
   "metadata": {},
   "outputs": [],
   "source": [
    "geral = agua.join(ar, (agua.Ano == ar.Ano),\"inner\")"
   ]
  },
  {
   "cell_type": "code",
   "execution_count": 19,
   "id": "2471f6d8-9a35-4652-945f-a37ef061d330",
   "metadata": {},
   "outputs": [],
   "source": [
    "geral = geral.drop(ar.Ano)"
   ]
  },
  {
   "cell_type": "code",
   "execution_count": 20,
   "id": "133ed3e1-4ee0-4f68-a8aa-4d1d99806d19",
   "metadata": {},
   "outputs": [
    {
     "data": {
      "text/html": [
       "<div>\n",
       "<style scoped>\n",
       "    .dataframe tbody tr th:only-of-type {\n",
       "        vertical-align: middle;\n",
       "    }\n",
       "\n",
       "    .dataframe tbody tr th {\n",
       "        vertical-align: top;\n",
       "    }\n",
       "\n",
       "    .dataframe thead th {\n",
       "        text-align: right;\n",
       "    }\n",
       "</style>\n",
       "<table border=\"1\" class=\"dataframe\">\n",
       "  <thead>\n",
       "    <tr style=\"text-align: right;\">\n",
       "      <th></th>\n",
       "      <th>Ano</th>\n",
       "      <th>Analyte</th>\n",
       "      <th>Media_Agua</th>\n",
       "      <th>Name</th>\n",
       "      <th>Media_Ar</th>\n",
       "    </tr>\n",
       "  </thead>\n",
       "  <tbody>\n",
       "    <tr>\n",
       "      <th>0</th>\n",
       "      <td>2005</td>\n",
       "      <td>Nickel, Total</td>\n",
       "      <td>2.380000</td>\n",
       "      <td>Air Toxics Concentrations- Average Benzene Con...</td>\n",
       "      <td>2.910417</td>\n",
       "    </tr>\n",
       "    <tr>\n",
       "      <th>1</th>\n",
       "      <td>2005</td>\n",
       "      <td>Nickel, Total</td>\n",
       "      <td>2.380000</td>\n",
       "      <td>Air Toxics Concentrations- Average Formaldehyd...</td>\n",
       "      <td>3.195833</td>\n",
       "    </tr>\n",
       "    <tr>\n",
       "      <th>2</th>\n",
       "      <td>2005</td>\n",
       "      <td>Nickel, Total</td>\n",
       "      <td>2.380000</td>\n",
       "      <td>O3-Attributable Cardiac and Respiratory Deaths</td>\n",
       "      <td>5.085417</td>\n",
       "    </tr>\n",
       "    <tr>\n",
       "      <th>3</th>\n",
       "      <td>2005</td>\n",
       "      <td>Nickel, Total</td>\n",
       "      <td>2.380000</td>\n",
       "      <td>PM2.5-Attributable Asthma Emergency Department...</td>\n",
       "      <td>90.432292</td>\n",
       "    </tr>\n",
       "    <tr>\n",
       "      <th>4</th>\n",
       "      <td>2005</td>\n",
       "      <td>Nickel, Total</td>\n",
       "      <td>2.380000</td>\n",
       "      <td>PM2.5-Attributable Deaths</td>\n",
       "      <td>66.908333</td>\n",
       "    </tr>\n",
       "    <tr>\n",
       "      <th>...</th>\n",
       "      <td>...</td>\n",
       "      <td>...</td>\n",
       "      <td>...</td>\n",
       "      <td>...</td>\n",
       "      <td>...</td>\n",
       "    </tr>\n",
       "    <tr>\n",
       "      <th>5208</th>\n",
       "      <td>2013</td>\n",
       "      <td>Temperature</td>\n",
       "      <td>9.932264</td>\n",
       "      <td>Boiler Emissions- Total NOx Emissions</td>\n",
       "      <td>56.300000</td>\n",
       "    </tr>\n",
       "    <tr>\n",
       "      <th>5209</th>\n",
       "      <td>2013</td>\n",
       "      <td>Temperature</td>\n",
       "      <td>9.932264</td>\n",
       "      <td>Boiler Emissions- Total SO2 Emissions</td>\n",
       "      <td>14.231250</td>\n",
       "    </tr>\n",
       "    <tr>\n",
       "      <th>5210</th>\n",
       "      <td>2013</td>\n",
       "      <td>Temperature</td>\n",
       "      <td>9.932264</td>\n",
       "      <td>Nitrogen Dioxide (NO2)</td>\n",
       "      <td>22.237187</td>\n",
       "    </tr>\n",
       "    <tr>\n",
       "      <th>5211</th>\n",
       "      <td>2013</td>\n",
       "      <td>Temperature</td>\n",
       "      <td>9.932264</td>\n",
       "      <td>Boiler Emissions- Total PM2.5 Emissions</td>\n",
       "      <td>1.660417</td>\n",
       "    </tr>\n",
       "    <tr>\n",
       "      <th>5212</th>\n",
       "      <td>2013</td>\n",
       "      <td>Temperature</td>\n",
       "      <td>9.932264</td>\n",
       "      <td>Fine Particulate Matter (PM2.5)</td>\n",
       "      <td>10.779574</td>\n",
       "    </tr>\n",
       "  </tbody>\n",
       "</table>\n",
       "<p>5213 rows × 5 columns</p>\n",
       "</div>"
      ],
      "text/plain": [
       "       Ano        Analyte  Media_Agua  \\\n",
       "0     2005  Nickel, Total    2.380000   \n",
       "1     2005  Nickel, Total    2.380000   \n",
       "2     2005  Nickel, Total    2.380000   \n",
       "3     2005  Nickel, Total    2.380000   \n",
       "4     2005  Nickel, Total    2.380000   \n",
       "...    ...            ...         ...   \n",
       "5208  2013    Temperature    9.932264   \n",
       "5209  2013    Temperature    9.932264   \n",
       "5210  2013    Temperature    9.932264   \n",
       "5211  2013    Temperature    9.932264   \n",
       "5212  2013    Temperature    9.932264   \n",
       "\n",
       "                                                   Name   Media_Ar  \n",
       "0     Air Toxics Concentrations- Average Benzene Con...   2.910417  \n",
       "1     Air Toxics Concentrations- Average Formaldehyd...   3.195833  \n",
       "2        O3-Attributable Cardiac and Respiratory Deaths   5.085417  \n",
       "3     PM2.5-Attributable Asthma Emergency Department...  90.432292  \n",
       "4                             PM2.5-Attributable Deaths  66.908333  \n",
       "...                                                 ...        ...  \n",
       "5208              Boiler Emissions- Total NOx Emissions  56.300000  \n",
       "5209              Boiler Emissions- Total SO2 Emissions  14.231250  \n",
       "5210                             Nitrogen Dioxide (NO2)  22.237187  \n",
       "5211            Boiler Emissions- Total PM2.5 Emissions   1.660417  \n",
       "5212                    Fine Particulate Matter (PM2.5)  10.779574  \n",
       "\n",
       "[5213 rows x 5 columns]"
      ]
     },
     "execution_count": 20,
     "metadata": {},
     "output_type": "execute_result"
    }
   ],
   "source": [
    "geral.toPandas()"
   ]
  },
  {
   "cell_type": "code",
   "execution_count": 22,
   "id": "c709cdce-3cbb-45c2-9440-b14333689462",
   "metadata": {},
   "outputs": [
    {
     "data": {
      "text/plain": [
       "DataFrame[]"
      ]
     },
     "execution_count": 22,
     "metadata": {},
     "output_type": "execute_result"
    }
   ],
   "source": [
    "spark.sql(\"\"\"\n",
    "DROP TABLE IF EXISTS Projeto_gold.Geral_2\n",
    "\"\"\")\n",
    "\n",
    "spark.sql(\n",
    "    \"\"\"\n",
    "    CREATE EXTERNAL TABLE Projeto_gold.Geral_2 (\n",
    "        Ano INT, \n",
    "        Analyte VARCHAR(250), \n",
    "        Media_Agua DOUBLE, \n",
    "        Name VARCHAR(250), \n",
    "        Media_Ar DOUBLE\n",
    "    )\n",
    "    USING DELTA\n",
    "    LOCATION 'hdfs://hdfs-nn:9000/TrabalhoPL/gold/Projeto_gold.db/Geral_2'\n",
    "    \"\"\"\n",
    ")"
   ]
  },
  {
   "cell_type": "code",
   "execution_count": 23,
   "id": "27971bf9-52dd-411f-bb1b-215371ec54f3",
   "metadata": {},
   "outputs": [],
   "source": [
    "geral \\\n",
    "    .write \\\n",
    "    .format(\"delta\") \\\n",
    "    .mode(\"overwrite\") \\\n",
    "    .option(\"mergeSchema\", \"true\")\\\n",
    "    .save(\"hdfs://hdfs-nn:9000/TrabalhoPL/gold/Projeto_gold.db/Geral_2\")"
   ]
  },
  {
   "cell_type": "code",
   "execution_count": 24,
   "id": "6269a9f1-bff1-41a0-92ed-b27809f88dc2",
   "metadata": {},
   "outputs": [
    {
     "name": "stdout",
     "output_type": "stream",
     "text": [
      "+----+----------------+-------------------+--------------------+------------------+\n",
      "| Ano|         Analyte|         Media_Agua|                Name|          Media_Ar|\n",
      "+----+----------------+-------------------+--------------------+------------------+\n",
      "|2005|   Nickel, Total|               2.38|Air Toxics Concen...|2.9104166701436043|\n",
      "|2005|   Nickel, Total|               2.38|Air Toxics Concen...|3.1958333402872086|\n",
      "|2005|   Nickel, Total|               2.38|O3-Attributable C...|  5.08541668454806|\n",
      "|2005|   Nickel, Total|               2.38|PM2.5-Attributabl...| 90.43229215343793|\n",
      "|2005|   Nickel, Total|               2.38|PM2.5-Attributabl...| 66.90833346048991|\n",
      "|2005|   Nickel, Total|               2.38|Traffic Density- ...|28.979439164990577|\n",
      "|2005|   Nickel, Total|               2.38|Traffic Density- ...|31.063725317225735|\n",
      "|2005|   Nickel, Total|               2.38|PM2.5-Attributabl...| 20.72916669646899|\n",
      "|2005|   Nickel, Total|               2.38|PM2.5-Attributabl...| 26.14999983708064|\n",
      "|2005|   Nickel, Total|               2.38|O3-Attributable A...|  67.7020837366581|\n",
      "|2005|   Nickel, Total|               2.38|O3-Attributable A...|13.523958316693703|\n",
      "|2005|   Nickel, Total|               2.38|Traffic Density- ...|1.6960784214384415|\n",
      "|2008|             HPC|  257.6111111111111|Sulfur Dioxide (SO2)| 5.527801419826264|\n",
      "|2008|             HPC|  257.6111111111111|Fine Particulate ...| 12.26751777297216|\n",
      "|2008|             HPC|  257.6111111111111|Nitrogen Dioxide ...| 28.28709218518954|\n",
      "|2008|Beryllium, Total|                0.6|Sulfur Dioxide (SO2)| 5.527801419826264|\n",
      "|2008|Beryllium, Total|                0.6|Fine Particulate ...| 12.26751777297216|\n",
      "|2008|Beryllium, Total|                0.6|Nitrogen Dioxide ...| 28.28709218518954|\n",
      "|2008|Manganese, Total|0.05586486486486488|Sulfur Dioxide (SO2)| 5.527801419826264|\n",
      "|2008|Manganese, Total|0.05586486486486488|Fine Particulate ...| 12.26751777297216|\n",
      "+----+----------------+-------------------+--------------------+------------------+\n",
      "only showing top 20 rows\n",
      "\n"
     ]
    }
   ],
   "source": [
    "spark.table(\"Projeto_gold.Geral_2\").show()"
   ]
  },
  {
   "cell_type": "code",
   "execution_count": 26,
   "id": "4ee2b9a6-8894-46b6-a6f3-a360788a6e86",
   "metadata": {},
   "outputs": [
    {
     "name": "stdout",
     "output_type": "stream",
     "text": [
      "++\n",
      "||\n",
      "++\n",
      "++\n",
      "\n"
     ]
    }
   ],
   "source": [
    "spark.sql(\"\"\"\n",
    "GENERATE symlink_format_manifest FOR TABLE delta.`hdfs://hdfs-nn:9000/TrabalhoPL/gold/Projeto_gold.db/Geral_2/`\n",
    "\"\"\").show()"
   ]
  },
  {
   "cell_type": "code",
   "execution_count": 27,
   "id": "2832f6b0-6a75-4677-9060-bea222d3e994",
   "metadata": {},
   "outputs": [
    {
     "name": "stdout",
     "output_type": "stream",
     "text": [
      "++\n",
      "||\n",
      "++\n",
      "++\n",
      "\n",
      "++\n",
      "||\n",
      "++\n",
      "++\n",
      "\n"
     ]
    }
   ],
   "source": [
    "spark.sql(\"\"\"\n",
    "DROP TABLE IF EXISTS Projeto_gold.Geral_Presto_2\n",
    "\"\"\").show()\n",
    "\n",
    "spark.sql(\"\"\"\n",
    "    CREATE EXTERNAL TABLE IF NOT EXISTS Projeto_gold.Geral_Presto_2 (\n",
    "        Ano INT, \n",
    "        Analyte VARCHAR(250), \n",
    "        Media_Agua DOUBLE, \n",
    "        Name VARCHAR(250), \n",
    "        Media_Ar DOUBLE\n",
    "    )\n",
    "    ROW FORMAT SERDE 'org.apache.hadoop.hive.ql.io.parquet.serde.ParquetHiveSerDe'\n",
    "    STORED AS INPUTFORMAT 'org.apache.hadoop.hive.ql.io.SymlinkTextInputFormat'\n",
    "    OUTPUTFORMAT 'org.apache.hadoop.hive.ql.io.HiveIgnoreKeyTextOutputFormat'\n",
    "    LOCATION 'hdfs://hdfs-nn:9000/TrabalhoPL/gold/Projeto_gold.db/Geral_2/_symlink_format_manifest/'\n",
    "    \"\"\").show()"
   ]
  },
  {
   "cell_type": "code",
   "execution_count": 16,
   "id": "b739769e-a876-4e95-8c4e-e8991f9af343",
   "metadata": {},
   "outputs": [
    {
     "data": {
      "text/plain": [
       "DataFrame[]"
      ]
     },
     "execution_count": 16,
     "metadata": {},
     "output_type": "execute_result"
    }
   ],
   "source": []
  },
  {
   "cell_type": "code",
   "execution_count": null,
   "id": "a53f8ba6-8a6e-4879-b9c4-c1b5f6c44c18",
   "metadata": {},
   "outputs": [],
   "source": []
  }
 ],
 "metadata": {
  "kernelspec": {
   "display_name": "Python 3 (ipykernel)",
   "language": "python",
   "name": "python3"
  },
  "language_info": {
   "codemirror_mode": {
    "name": "ipython",
    "version": 3
   },
   "file_extension": ".py",
   "mimetype": "text/x-python",
   "name": "python",
   "nbconvert_exporter": "python",
   "pygments_lexer": "ipython3",
   "version": "3.10.6"
  }
 },
 "nbformat": 4,
 "nbformat_minor": 5
}
