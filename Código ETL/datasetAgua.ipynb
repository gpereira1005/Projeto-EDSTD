{
 "cells": [
  {
   "cell_type": "code",
   "execution_count": 1,
   "id": "94ade7dd-d6d2-4329-ac3b-2b239aee1e4e",
   "metadata": {},
   "outputs": [],
   "source": [
    "from os import PathLike\n",
    "from hdfs import InsecureClient\n",
    "from pyspark.sql import SparkSession\n",
    "from pyspark.sql import Row\n",
    "from delta import *\n",
    "from pyspark.sql.functions import *\n",
    "from pyspark.sql.types import LongType, StringType, StructField, StructType, BooleanType, ArrayType, IntegerType,FloatType\n",
    "\n",
    "warehouse_location = 'hdfs://hdfs-nn:9870/TrabalhoPL'\n",
    "\n",
    "builder = SparkSession \\\n",
    "    .builder \\\n",
    "    .master(\"local[2]\") \\\n",
    "    .appName(\"Python Spark DataFrames and SQL\") \\\n",
    "    .config(\"spark.sql.warehouse.dir\", warehouse_location) \\\n",
    "    .config(\"hive.metastore.uris\", \"thrift://hive-metastore:9083\") \\\n",
    "    .config(\"spark.sql.extensions\", \"io.delta.sql.DeltaSparkSessionExtension\") \\\n",
    "    .config(\"spark.sql.catalog.spark_catalog\", \"org.apache.spark.sql.delta.catalog.DeltaCatalog\") \\\n",
    "    .config(\"spark.jars.packages\", \"io.delta:delta-core_2.12:1.0.0\") \\\n",
    "    .enableHiveSupport() \\\n",
    "\n",
    "spark = configure_spark_with_delta_pip(builder).getOrCreate()"
   ]
  },
  {
   "cell_type": "code",
   "execution_count": 2,
   "id": "8a682501-ba51-4dec-8d78-6f1502dc9f76",
   "metadata": {},
   "outputs": [
    {
     "name": "stdout",
     "output_type": "stream",
     "text": [
      "+---------+-----------+-----------+-----------+---------------+------+------------+-----+------------+\n",
      "|Sample Id|Sample Site|Sample Date|Sample Time|        Analyte|Status|Final Result|Units|Stream Group|\n",
      "+---------+-----------+-----------+-----------+---------------+------+------------+-----+------------+\n",
      "| C-185028|         S4| 01/07/1987|       null|    Temperature|  null|     1.11111|    C|   Schoharie|\n",
      "| C-186342|        S6I| 01/07/1987|       null|    Temperature|  null|    0.555556|    C|   Schoharie|\n",
      "| C-187744|         S8| 01/07/1987|       null|    Temperature|  null|     2.22222|    C|   Schoharie|\n",
      "| C-185028|         S4| 01/07/1987|       null|Scent Character|  null|          1V| null|   Schoharie|\n",
      "| C-186342|        S6I| 01/07/1987|       null|Scent Character|  null|          1V| null|   Schoharie|\n",
      "| C-187744|         S8| 01/07/1987|       null|Scent Character|  null|          1V| null|   Schoharie|\n",
      "| C-182701|         S1| 01/07/1987|       null|Scent Character|  null|          1V| null|   Schoharie|\n",
      "| E-116574|   MUSCOOT5| 01/07/1987|       null|    Temperature|  null|     1.66667|    C|     Muscoot|\n",
      "|  E-90000|   AMAWALKR| 01/07/1987|       null|    Temperature|  null|     2.77778|    C|     Muscoot|\n",
      "|  E-90000|   AMAWALKR| 01/07/1987|       null| Apparent Color|  null|          20|   CU|     Muscoot|\n",
      "|  E-90000|   AMAWALKR| 01/07/1987|       null|Scent Character|  null|           0| null|     Muscoot|\n",
      "| E-116574|   MUSCOOT5| 01/07/1987|       null|Scent Character|  null|           0| null|     Muscoot|\n",
      "| C-185662|        S5I| 01/07/1987|       null|             pH|  null|         7.1| null|   Schoharie|\n",
      "| C-187041|        S7I| 01/07/1987|       null|             pH|  null|         6.9| null|   Schoharie|\n",
      "| C-183916|         S2| 01/07/1987|       null|    Iron, Total|  null|       <0.01| mg/L|   Schoharie|\n",
      "| C-184505|         S3| 01/07/1987|       null|    Iron, Total|  null|       <0.01| mg/L|   Schoharie|\n",
      "| C-185662|        S5I| 01/07/1987|       null|    Iron, Total|  null|       <0.01| mg/L|   Schoharie|\n",
      "| C-187041|        S7I| 01/07/1987|       null|    Iron, Total|  null|       <0.01| mg/L|   Schoharie|\n",
      "| C-183916|         S2| 01/07/1987|       null| Apparent Color|  null|           9|   CU|   Schoharie|\n",
      "| C-184505|         S3| 01/07/1987|       null| Apparent Color|  null|           4|   CU|   Schoharie|\n",
      "+---------+-----------+-----------+-----------+---------------+------+------------+-----+------------+\n",
      "only showing top 20 rows\n",
      "\n"
     ]
    }
   ],
   "source": [
    "hdfs_path = \"hdfs://hdfs-nn:9000/TrabalhoPL/bronze/Watershed_Water_Quality_-_Hydrology.csv\"\n",
    "\n",
    "customSchema = StructType([\n",
    "    StructField(\"Sample Id\", StringType(), True),        \n",
    "    StructField(\"Sample Site\", StringType(), True),\n",
    "    StructField(\"Sample Date\", StringType(), True),\n",
    "    StructField(\"Sample Time\", StringType(), True),\n",
    "    StructField(\"Analyte\", StringType(), True),\n",
    "    StructField(\"Status\", StringType(), True),\n",
    "    StructField(\"Final Result\", StringType(), True),\n",
    "    StructField(\"Units\", StringType(), True), \n",
    "    StructField(\"Stream Group\", StringType(), True)\n",
    "    \n",
    "])\n",
    "\n",
    "projeto_water = spark \\\n",
    "            .read\\\n",
    "            .option(\"delimiter\",\",\")\\\n",
    "            .option(\"header\",\"true\")\\\n",
    "            .schema(customSchema) \\\n",
    "            .csv(hdfs_path)\n",
    "projeto_water.show()"
   ]
  },
  {
   "cell_type": "code",
   "execution_count": 3,
   "id": "4be96376-e1ed-4c7c-9592-946b85a6913c",
   "metadata": {},
   "outputs": [
    {
     "name": "stdout",
     "output_type": "stream",
     "text": [
      "+---------+-----------+-----------+-----------+---------------+------+------------+-----+------------+\n",
      "|Sample Id|Sample Site|Sample Date|Sample Time|        Analyte|Status|Final Result|Units|Stream Group|\n",
      "+---------+-----------+-----------+-----------+---------------+------+------------+-----+------------+\n",
      "| C-185028|         S4| 01/07/1987|      00:00|    Temperature|  null|     1.11111|    C|   Schoharie|\n",
      "| C-186342|        S6I| 01/07/1987|      00:00|    Temperature|  null|    0.555556|    C|   Schoharie|\n",
      "| C-187744|         S8| 01/07/1987|      00:00|    Temperature|  null|     2.22222|    C|   Schoharie|\n",
      "| C-185028|         S4| 01/07/1987|      00:00|Scent Character|  null|          1V| null|   Schoharie|\n",
      "| C-186342|        S6I| 01/07/1987|      00:00|Scent Character|  null|          1V| null|   Schoharie|\n",
      "| C-187744|         S8| 01/07/1987|      00:00|Scent Character|  null|          1V| null|   Schoharie|\n",
      "| C-182701|         S1| 01/07/1987|      00:00|Scent Character|  null|          1V| null|   Schoharie|\n",
      "| E-116574|   MUSCOOT5| 01/07/1987|      00:00|    Temperature|  null|     1.66667|    C|     Muscoot|\n",
      "|  E-90000|   AMAWALKR| 01/07/1987|      00:00|    Temperature|  null|     2.77778|    C|     Muscoot|\n",
      "|  E-90000|   AMAWALKR| 01/07/1987|      00:00| Apparent Color|  null|          20|   CU|     Muscoot|\n",
      "|  E-90000|   AMAWALKR| 01/07/1987|      00:00|Scent Character|  null|           0| null|     Muscoot|\n",
      "| E-116574|   MUSCOOT5| 01/07/1987|      00:00|Scent Character|  null|           0| null|     Muscoot|\n",
      "| C-185662|        S5I| 01/07/1987|      00:00|             pH|  null|         7.1| null|   Schoharie|\n",
      "| C-187041|        S7I| 01/07/1987|      00:00|             pH|  null|         6.9| null|   Schoharie|\n",
      "| C-183916|         S2| 01/07/1987|      00:00|    Iron, Total|  null|       <0.01| mg/L|   Schoharie|\n",
      "| C-184505|         S3| 01/07/1987|      00:00|    Iron, Total|  null|       <0.01| mg/L|   Schoharie|\n",
      "| C-185662|        S5I| 01/07/1987|      00:00|    Iron, Total|  null|       <0.01| mg/L|   Schoharie|\n",
      "| C-187041|        S7I| 01/07/1987|      00:00|    Iron, Total|  null|       <0.01| mg/L|   Schoharie|\n",
      "| C-183916|         S2| 01/07/1987|      00:00| Apparent Color|  null|           9|   CU|   Schoharie|\n",
      "| C-184505|         S3| 01/07/1987|      00:00| Apparent Color|  null|           4|   CU|   Schoharie|\n",
      "+---------+-----------+-----------+-----------+---------------+------+------------+-----+------------+\n",
      "only showing top 20 rows\n",
      "\n"
     ]
    }
   ],
   "source": [
    "replaced_projeto_water = projeto_water.withColumn(\n",
    "    \"Sample Time\",\n",
    "    when(\n",
    "        (col(\"Sample Time\").isNull() | (col(\"Sample Time\") == None)), \n",
    "        \"00:00\"\n",
    "    ).otherwise(col(\"Sample Time\")))\n",
    "    \n",
    "replaced_projeto_water.show()"
   ]
  },
  {
   "cell_type": "code",
   "execution_count": 4,
   "id": "db1ed409-fe9b-4a64-b5f7-9f79900e922d",
   "metadata": {},
   "outputs": [
    {
     "name": "stdout",
     "output_type": "stream",
     "text": [
      "+---------+-----------+-----------+-----------+---------------+------+------------+-----+------------+\n",
      "|Sample Id|Sample Site|Sample Date|Sample Time|        Analyte|Status|Final Result|Units|Stream Group|\n",
      "+---------+-----------+-----------+-----------+---------------+------+------------+-----+------------+\n",
      "| C-185028|         S4| 01/07/1987|      00:00|    Temperature|  null|     1.11111|    C|   Schoharie|\n",
      "| C-186342|        S6I| 01/07/1987|      00:00|    Temperature|  null|    0.555556|    C|   Schoharie|\n",
      "| C-187744|         S8| 01/07/1987|      00:00|    Temperature|  null|     2.22222|    C|   Schoharie|\n",
      "| C-185028|         S4| 01/07/1987|      00:00|Scent Character|  null|          1V| null|   Schoharie|\n",
      "| C-186342|        S6I| 01/07/1987|      00:00|Scent Character|  null|          1V| null|   Schoharie|\n",
      "| C-187744|         S8| 01/07/1987|      00:00|Scent Character|  null|          1V| null|   Schoharie|\n",
      "| C-182701|         S1| 01/07/1987|      00:00|Scent Character|  null|          1V| null|   Schoharie|\n",
      "| E-116574|   MUSCOOT5| 01/07/1987|      00:00|    Temperature|  null|     1.66667|    C|     Muscoot|\n",
      "|  E-90000|   AMAWALKR| 01/07/1987|      00:00|    Temperature|  null|     2.77778|    C|     Muscoot|\n",
      "|  E-90000|   AMAWALKR| 01/07/1987|      00:00| Apparent Color|  null|          20|   CU|     Muscoot|\n",
      "|  E-90000|   AMAWALKR| 01/07/1987|      00:00|Scent Character|  null|           0| null|     Muscoot|\n",
      "| E-116574|   MUSCOOT5| 01/07/1987|      00:00|Scent Character|  null|           0| null|     Muscoot|\n",
      "| C-185662|        S5I| 01/07/1987|      00:00|             pH|  null|         7.1| null|   Schoharie|\n",
      "| C-187041|        S7I| 01/07/1987|      00:00|             pH|  null|         6.9| null|   Schoharie|\n",
      "| C-183916|         S2| 01/07/1987|      00:00|    Iron, Total|  null|       <0.01| mg/L|   Schoharie|\n",
      "| C-184505|         S3| 01/07/1987|      00:00|    Iron, Total|  null|       <0.01| mg/L|   Schoharie|\n",
      "| C-185662|        S5I| 01/07/1987|      00:00|    Iron, Total|  null|       <0.01| mg/L|   Schoharie|\n",
      "| C-187041|        S7I| 01/07/1987|      00:00|    Iron, Total|  null|       <0.01| mg/L|   Schoharie|\n",
      "| C-183916|         S2| 01/07/1987|      00:00| Apparent Color|  null|           9|   CU|   Schoharie|\n",
      "| C-184505|         S3| 01/07/1987|      00:00| Apparent Color|  null|           4|   CU|   Schoharie|\n",
      "+---------+-----------+-----------+-----------+---------------+------+------------+-----+------------+\n",
      "only showing top 20 rows\n",
      "\n"
     ]
    }
   ],
   "source": [
    "replaced_projeto_water = replaced_projeto_water.withColumn('Sample Time', concat(split(replaced_projeto_water['Sample Time'], ':').getItem(0), lit(':'), \n",
    "                                                                                 split(replaced_projeto_water['Sample Time'], ':').getItem(1))) \n",
    "replaced_projeto_water.show()"
   ]
  },
  {
   "cell_type": "code",
   "execution_count": 5,
   "id": "2e848899-1bf4-4977-92a3-0d81b0c678e3",
   "metadata": {},
   "outputs": [
    {
     "name": "stdout",
     "output_type": "stream",
     "text": [
      "+---------+-----------+-----------+-----------+---------------+------------+------------+-----+------------+\n",
      "|Sample Id|Sample Site|Sample Date|Sample Time|        Analyte|      Status|Final Result|Units|Stream Group|\n",
      "+---------+-----------+-----------+-----------+---------------+------------+------------+-----+------------+\n",
      "| C-185028|         S4| 01/07/1987|      00:00|    Temperature|Desconhecido|     1.11111|    C|   Schoharie|\n",
      "| C-186342|        S6I| 01/07/1987|      00:00|    Temperature|Desconhecido|    0.555556|    C|   Schoharie|\n",
      "| C-187744|         S8| 01/07/1987|      00:00|    Temperature|Desconhecido|     2.22222|    C|   Schoharie|\n",
      "| C-185028|         S4| 01/07/1987|      00:00|Scent Character|Desconhecido|          1V| null|   Schoharie|\n",
      "| C-186342|        S6I| 01/07/1987|      00:00|Scent Character|Desconhecido|          1V| null|   Schoharie|\n",
      "| C-187744|         S8| 01/07/1987|      00:00|Scent Character|Desconhecido|          1V| null|   Schoharie|\n",
      "| C-182701|         S1| 01/07/1987|      00:00|Scent Character|Desconhecido|          1V| null|   Schoharie|\n",
      "| E-116574|   MUSCOOT5| 01/07/1987|      00:00|    Temperature|Desconhecido|     1.66667|    C|     Muscoot|\n",
      "|  E-90000|   AMAWALKR| 01/07/1987|      00:00|    Temperature|Desconhecido|     2.77778|    C|     Muscoot|\n",
      "|  E-90000|   AMAWALKR| 01/07/1987|      00:00| Apparent Color|Desconhecido|          20|   CU|     Muscoot|\n",
      "|  E-90000|   AMAWALKR| 01/07/1987|      00:00|Scent Character|Desconhecido|           0| null|     Muscoot|\n",
      "| E-116574|   MUSCOOT5| 01/07/1987|      00:00|Scent Character|Desconhecido|           0| null|     Muscoot|\n",
      "| C-185662|        S5I| 01/07/1987|      00:00|             pH|Desconhecido|         7.1| null|   Schoharie|\n",
      "| C-187041|        S7I| 01/07/1987|      00:00|             pH|Desconhecido|         6.9| null|   Schoharie|\n",
      "| C-183916|         S2| 01/07/1987|      00:00|    Iron, Total|Desconhecido|       <0.01| mg/L|   Schoharie|\n",
      "| C-184505|         S3| 01/07/1987|      00:00|    Iron, Total|Desconhecido|       <0.01| mg/L|   Schoharie|\n",
      "| C-185662|        S5I| 01/07/1987|      00:00|    Iron, Total|Desconhecido|       <0.01| mg/L|   Schoharie|\n",
      "| C-187041|        S7I| 01/07/1987|      00:00|    Iron, Total|Desconhecido|       <0.01| mg/L|   Schoharie|\n",
      "| C-183916|         S2| 01/07/1987|      00:00| Apparent Color|Desconhecido|           9|   CU|   Schoharie|\n",
      "| C-184505|         S3| 01/07/1987|      00:00| Apparent Color|Desconhecido|           4|   CU|   Schoharie|\n",
      "+---------+-----------+-----------+-----------+---------------+------------+------------+-----+------------+\n",
      "only showing top 20 rows\n",
      "\n"
     ]
    }
   ],
   "source": [
    "replaced_projeto_water2 = replaced_projeto_water.withColumn(\n",
    "    \"Status\",\n",
    "    when(\n",
    "        (col(\"Status\").isNull() | (col(\"Status\") == None)), \n",
    "        \"Desconhecido\"\n",
    "    ).otherwise(col(\"Status\")))\n",
    "replaced_projeto_water2.show()"
   ]
  },
  {
   "cell_type": "code",
   "execution_count": 6,
   "id": "ba65f24c-ad44-495c-9186-b7ae571898cf",
   "metadata": {},
   "outputs": [
    {
     "name": "stdout",
     "output_type": "stream",
     "text": [
      "+---------+-----------+-----------+-----------+---------------+------------+------------+-----+------------+\n",
      "|Sample Id|Sample Site|Sample Date|Sample Time|        Analyte|      Status|Final Result|Units|Stream Group|\n",
      "+---------+-----------+-----------+-----------+---------------+------------+------------+-----+------------+\n",
      "| C-185028|         S4| 01/07/1987|      00:00|    Temperature|Desconhecido|     1.11111|    C|   Schoharie|\n",
      "| C-186342|        S6I| 01/07/1987|      00:00|    Temperature|Desconhecido|    0.555556|    C|   Schoharie|\n",
      "| C-187744|         S8| 01/07/1987|      00:00|    Temperature|Desconhecido|     2.22222|    C|   Schoharie|\n",
      "| C-185028|         S4| 01/07/1987|      00:00|Scent Character|Desconhecido|          1V| null|   Schoharie|\n",
      "| C-186342|        S6I| 01/07/1987|      00:00|Scent Character|Desconhecido|          1V| null|   Schoharie|\n",
      "| C-187744|         S8| 01/07/1987|      00:00|Scent Character|Desconhecido|          1V| null|   Schoharie|\n",
      "| C-182701|         S1| 01/07/1987|      00:00|Scent Character|Desconhecido|          1V| null|   Schoharie|\n",
      "| E-116574|   MUSCOOT5| 01/07/1987|      00:00|    Temperature|Desconhecido|     1.66667|    C|     Muscoot|\n",
      "|  E-90000|   AMAWALKR| 01/07/1987|      00:00|    Temperature|Desconhecido|     2.77778|    C|     Muscoot|\n",
      "|  E-90000|   AMAWALKR| 01/07/1987|      00:00| Apparent Color|Desconhecido|          20|   CU|     Muscoot|\n",
      "|  E-90000|   AMAWALKR| 01/07/1987|      00:00|Scent Character|Desconhecido|           0| null|     Muscoot|\n",
      "| E-116574|   MUSCOOT5| 01/07/1987|      00:00|Scent Character|Desconhecido|           0| null|     Muscoot|\n",
      "| C-185662|        S5I| 01/07/1987|      00:00|             pH|Desconhecido|         7.1| null|   Schoharie|\n",
      "| C-187041|        S7I| 01/07/1987|      00:00|             pH|Desconhecido|         6.9| null|   Schoharie|\n",
      "| C-183916|         S2| 01/07/1987|      00:00|    Iron, Total|Desconhecido|       <0.01| mg/L|   Schoharie|\n",
      "| C-184505|         S3| 01/07/1987|      00:00|    Iron, Total|Desconhecido|       <0.01| mg/L|   Schoharie|\n",
      "| C-185662|        S5I| 01/07/1987|      00:00|    Iron, Total|Desconhecido|       <0.01| mg/L|   Schoharie|\n",
      "| C-187041|        S7I| 01/07/1987|      00:00|    Iron, Total|Desconhecido|       <0.01| mg/L|   Schoharie|\n",
      "| C-183916|         S2| 01/07/1987|      00:00| Apparent Color|Desconhecido|           9|   CU|   Schoharie|\n",
      "| C-184505|         S3| 01/07/1987|      00:00| Apparent Color|Desconhecido|           4|   CU|   Schoharie|\n",
      "+---------+-----------+-----------+-----------+---------------+------------+------------+-----+------------+\n",
      "only showing top 20 rows\n",
      "\n"
     ]
    }
   ],
   "source": [
    "replaced_projeto_water3 = replaced_projeto_water2.withColumn(\n",
    "    \"Final Result\",\n",
    "    when(\n",
    "        (col(\"Final Result\").isNull() | (col(\"Final Result\") == None)), \n",
    "        \"Desconhecido\"\n",
    "    ).otherwise(col(\"Final Result\")))\n",
    "replaced_projeto_water3.show()"
   ]
  },
  {
   "cell_type": "code",
   "execution_count": 7,
   "id": "2d80d39d-5840-4616-bcd9-ba316112943c",
   "metadata": {},
   "outputs": [
    {
     "name": "stdout",
     "output_type": "stream",
     "text": [
      "+---------+-----------+-----------+-----------+---------------+------------+------------+------------+------------+\n",
      "|Sample Id|Sample Site|Sample Date|Sample Time|        Analyte|      Status|Final Result|       Units|Stream Group|\n",
      "+---------+-----------+-----------+-----------+---------------+------------+------------+------------+------------+\n",
      "| C-185028|         S4| 01/07/1987|      00:00|    Temperature|Desconhecido|     1.11111|           C|   Schoharie|\n",
      "| C-186342|        S6I| 01/07/1987|      00:00|    Temperature|Desconhecido|    0.555556|           C|   Schoharie|\n",
      "| C-187744|         S8| 01/07/1987|      00:00|    Temperature|Desconhecido|     2.22222|           C|   Schoharie|\n",
      "| C-185028|         S4| 01/07/1987|      00:00|Scent Character|Desconhecido|          1V|Desconhecida|   Schoharie|\n",
      "| C-186342|        S6I| 01/07/1987|      00:00|Scent Character|Desconhecido|          1V|Desconhecida|   Schoharie|\n",
      "| C-187744|         S8| 01/07/1987|      00:00|Scent Character|Desconhecido|          1V|Desconhecida|   Schoharie|\n",
      "| C-182701|         S1| 01/07/1987|      00:00|Scent Character|Desconhecido|          1V|Desconhecida|   Schoharie|\n",
      "| E-116574|   MUSCOOT5| 01/07/1987|      00:00|    Temperature|Desconhecido|     1.66667|           C|     Muscoot|\n",
      "|  E-90000|   AMAWALKR| 01/07/1987|      00:00|    Temperature|Desconhecido|     2.77778|           C|     Muscoot|\n",
      "|  E-90000|   AMAWALKR| 01/07/1987|      00:00| Apparent Color|Desconhecido|          20|          CU|     Muscoot|\n",
      "|  E-90000|   AMAWALKR| 01/07/1987|      00:00|Scent Character|Desconhecido|           0|Desconhecida|     Muscoot|\n",
      "| E-116574|   MUSCOOT5| 01/07/1987|      00:00|Scent Character|Desconhecido|           0|Desconhecida|     Muscoot|\n",
      "| C-185662|        S5I| 01/07/1987|      00:00|             pH|Desconhecido|         7.1|Desconhecida|   Schoharie|\n",
      "| C-187041|        S7I| 01/07/1987|      00:00|             pH|Desconhecido|         6.9|Desconhecida|   Schoharie|\n",
      "| C-183916|         S2| 01/07/1987|      00:00|    Iron, Total|Desconhecido|       <0.01|        mg/L|   Schoharie|\n",
      "| C-184505|         S3| 01/07/1987|      00:00|    Iron, Total|Desconhecido|       <0.01|        mg/L|   Schoharie|\n",
      "| C-185662|        S5I| 01/07/1987|      00:00|    Iron, Total|Desconhecido|       <0.01|        mg/L|   Schoharie|\n",
      "| C-187041|        S7I| 01/07/1987|      00:00|    Iron, Total|Desconhecido|       <0.01|        mg/L|   Schoharie|\n",
      "| C-183916|         S2| 01/07/1987|      00:00| Apparent Color|Desconhecido|           9|          CU|   Schoharie|\n",
      "| C-184505|         S3| 01/07/1987|      00:00| Apparent Color|Desconhecido|           4|          CU|   Schoharie|\n",
      "+---------+-----------+-----------+-----------+---------------+------------+------------+------------+------------+\n",
      "only showing top 20 rows\n",
      "\n"
     ]
    }
   ],
   "source": [
    "replaced_projeto_water4 = replaced_projeto_water3.withColumn(\n",
    "    \"Units\",\n",
    "    when(\n",
    "        (col(\"Units\").isNull() | (col(\"Units\") == None)), \n",
    "        \"Desconhecida\"\n",
    "    ).otherwise(col(\"Units\")))\n",
    "replaced_projeto_water4.show()"
   ]
  },
  {
   "cell_type": "code",
   "execution_count": 8,
   "id": "e1fc630a-f823-4882-ab23-9f581e95e37d",
   "metadata": {},
   "outputs": [
    {
     "name": "stdout",
     "output_type": "stream",
     "text": [
      "+---------+-----------+-----------+-----------+---------------+------------+------------+------------+------------+\n",
      "|Sample Id|Sample Site|Sample Date|Sample Time|        Analyte|      Status|Final Result|       Units|Stream Group|\n",
      "+---------+-----------+-----------+-----------+---------------+------------+------------+------------+------------+\n",
      "| C-185028|         S4| 01/07/1987|      00:00|    Temperature|Desconhecido|     1.11111|           C|   Schoharie|\n",
      "| C-186342|        S6I| 01/07/1987|      00:00|    Temperature|Desconhecido|    0.555556|           C|   Schoharie|\n",
      "| C-187744|         S8| 01/07/1987|      00:00|    Temperature|Desconhecido|     2.22222|           C|   Schoharie|\n",
      "| C-185028|         S4| 01/07/1987|      00:00|Scent Character|Desconhecido|          1V|Desconhecida|   Schoharie|\n",
      "| C-186342|        S6I| 01/07/1987|      00:00|Scent Character|Desconhecido|          1V|Desconhecida|   Schoharie|\n",
      "| C-187744|         S8| 01/07/1987|      00:00|Scent Character|Desconhecido|          1V|Desconhecida|   Schoharie|\n",
      "| C-182701|         S1| 01/07/1987|      00:00|Scent Character|Desconhecido|          1V|Desconhecida|   Schoharie|\n",
      "| E-116574|   MUSCOOT5| 01/07/1987|      00:00|    Temperature|Desconhecido|     1.66667|           C|     Muscoot|\n",
      "|  E-90000|   AMAWALKR| 01/07/1987|      00:00|    Temperature|Desconhecido|     2.77778|           C|     Muscoot|\n",
      "|  E-90000|   AMAWALKR| 01/07/1987|      00:00| Apparent Color|Desconhecido|          20|          CU|     Muscoot|\n",
      "|  E-90000|   AMAWALKR| 01/07/1987|      00:00|Scent Character|Desconhecido|           0|Desconhecida|     Muscoot|\n",
      "| E-116574|   MUSCOOT5| 01/07/1987|      00:00|Scent Character|Desconhecido|           0|Desconhecida|     Muscoot|\n",
      "| C-185662|        S5I| 01/07/1987|      00:00|             pH|Desconhecido|         7.1|Desconhecida|   Schoharie|\n",
      "| C-187041|        S7I| 01/07/1987|      00:00|             pH|Desconhecido|         6.9|Desconhecida|   Schoharie|\n",
      "| C-183916|         S2| 01/07/1987|      00:00|    Iron, Total|Desconhecido|       <0.01|        mg/L|   Schoharie|\n",
      "| C-184505|         S3| 01/07/1987|      00:00|    Iron, Total|Desconhecido|       <0.01|        mg/L|   Schoharie|\n",
      "| C-185662|        S5I| 01/07/1987|      00:00|    Iron, Total|Desconhecido|       <0.01|        mg/L|   Schoharie|\n",
      "| C-187041|        S7I| 01/07/1987|      00:00|    Iron, Total|Desconhecido|       <0.01|        mg/L|   Schoharie|\n",
      "| C-183916|         S2| 01/07/1987|      00:00| Apparent Color|Desconhecido|           9|          CU|   Schoharie|\n",
      "| C-184505|         S3| 01/07/1987|      00:00| Apparent Color|Desconhecido|           4|          CU|   Schoharie|\n",
      "+---------+-----------+-----------+-----------+---------------+------------+------------+------------+------------+\n",
      "only showing top 20 rows\n",
      "\n"
     ]
    }
   ],
   "source": [
    "replaced_projeto_water5 = replaced_projeto_water4.withColumn(\n",
    "    \"Stream Group\",\n",
    "    when(\n",
    "        (col(\"Stream Group\").isNull() | (col(\"Stream Group\") == None)), \n",
    "        \"Desconhecida\"\n",
    "    ).otherwise(col(\"Stream Group\")))\n",
    "replaced_projeto_water5.show()"
   ]
  },
  {
   "cell_type": "code",
   "execution_count": 9,
   "id": "7a795385-85fa-48cb-bbc1-deeaebba60b0",
   "metadata": {},
   "outputs": [
    {
     "name": "stdout",
     "output_type": "stream",
     "text": [
      "+---------+-----------+-----------+-----------+---------------+------------+------------+------------+------------+\n",
      "|Sample Id|Sample Site|Sample Date|Sample Time|        Analyte|      Status|Final Result|       Units|Stream Group|\n",
      "+---------+-----------+-----------+-----------+---------------+------------+------------+------------+------------+\n",
      "| C-185028|         S4| 01/07/1987|      00:00|    Temperature|Desconhecido|     1.11111|           C|   Schoharie|\n",
      "| C-186342|        S6I| 01/07/1987|      00:00|    Temperature|Desconhecido|    0.555556|           C|   Schoharie|\n",
      "| C-187744|         S8| 01/07/1987|      00:00|    Temperature|Desconhecido|     2.22222|           C|   Schoharie|\n",
      "| C-185028|         S4| 01/07/1987|      00:00|Scent Character|Desconhecido|          1V|Desconhecida|   Schoharie|\n",
      "| C-186342|        S6I| 01/07/1987|      00:00|Scent Character|Desconhecido|          1V|Desconhecida|   Schoharie|\n",
      "| C-187744|         S8| 01/07/1987|      00:00|Scent Character|Desconhecido|          1V|Desconhecida|   Schoharie|\n",
      "| C-182701|         S1| 01/07/1987|      00:00|Scent Character|Desconhecido|          1V|Desconhecida|   Schoharie|\n",
      "| E-116574|   MUSCOOT5| 01/07/1987|      00:00|    Temperature|Desconhecido|     1.66667|           C|     Muscoot|\n",
      "|  E-90000|   AMAWALKR| 01/07/1987|      00:00|    Temperature|Desconhecido|     2.77778|           C|     Muscoot|\n",
      "|  E-90000|   AMAWALKR| 01/07/1987|      00:00| Apparent Color|Desconhecido|          20|          CU|     Muscoot|\n",
      "|  E-90000|   AMAWALKR| 01/07/1987|      00:00|Scent Character|Desconhecido|           0|Desconhecida|     Muscoot|\n",
      "| E-116574|   MUSCOOT5| 01/07/1987|      00:00|Scent Character|Desconhecido|           0|Desconhecida|     Muscoot|\n",
      "| C-185662|        S5I| 01/07/1987|      00:00|             pH|Desconhecido|         7.1|Desconhecida|   Schoharie|\n",
      "| C-187041|        S7I| 01/07/1987|      00:00|             pH|Desconhecido|         6.9|Desconhecida|   Schoharie|\n",
      "| C-183916|         S2| 01/07/1987|      00:00|    Iron, Total|Desconhecido|       <0.01|        mg/L|   Schoharie|\n",
      "| C-184505|         S3| 01/07/1987|      00:00|    Iron, Total|Desconhecido|       <0.01|        mg/L|   Schoharie|\n",
      "| C-185662|        S5I| 01/07/1987|      00:00|    Iron, Total|Desconhecido|       <0.01|        mg/L|   Schoharie|\n",
      "| C-187041|        S7I| 01/07/1987|      00:00|    Iron, Total|Desconhecido|       <0.01|        mg/L|   Schoharie|\n",
      "| C-183916|         S2| 01/07/1987|      00:00| Apparent Color|Desconhecido|           9|          CU|   Schoharie|\n",
      "| C-184505|         S3| 01/07/1987|      00:00| Apparent Color|Desconhecido|           4|          CU|   Schoharie|\n",
      "+---------+-----------+-----------+-----------+---------------+------------+------------+------------+------------+\n",
      "only showing top 20 rows\n",
      "\n"
     ]
    }
   ],
   "source": [
    "replaced_projeto_water5 = replaced_projeto_water5.withColumn(\n",
    "    \"Analyte\",\n",
    "    when(\n",
    "        (col(\"Analyte\").isNull() | (col(\"Analyte\") == None)), \n",
    "        \"Desconhecida\"\n",
    "    ).otherwise(col(\"Analyte\")))\n",
    "replaced_projeto_water5.show()"
   ]
  },
  {
   "cell_type": "code",
   "execution_count": 10,
   "id": "bba80ce6-1176-4fed-b588-2c1cd3b33dcf",
   "metadata": {},
   "outputs": [
    {
     "name": "stdout",
     "output_type": "stream",
     "text": [
      "+---------+-----------+-----------+-----------+---------------+------------+------------+------------+------------+----+\n",
      "|Sample Id|Sample Site|Sample Date|Sample Time|        Analyte|      Status|Final Result|       Units|Stream Group| Ano|\n",
      "+---------+-----------+-----------+-----------+---------------+------------+------------+------------+------------+----+\n",
      "| C-185028|         S4| 1987-01-07|      00:00|    Temperature|Desconhecido|     1.11111|           C|   Schoharie|1987|\n",
      "| C-186342|        S6I| 1987-01-07|      00:00|    Temperature|Desconhecido|    0.555556|           C|   Schoharie|1987|\n",
      "| C-187744|         S8| 1987-01-07|      00:00|    Temperature|Desconhecido|     2.22222|           C|   Schoharie|1987|\n",
      "| C-185028|         S4| 1987-01-07|      00:00|Scent Character|Desconhecido|          1V|Desconhecida|   Schoharie|1987|\n",
      "| C-186342|        S6I| 1987-01-07|      00:00|Scent Character|Desconhecido|          1V|Desconhecida|   Schoharie|1987|\n",
      "| C-187744|         S8| 1987-01-07|      00:00|Scent Character|Desconhecido|          1V|Desconhecida|   Schoharie|1987|\n",
      "| C-182701|         S1| 1987-01-07|      00:00|Scent Character|Desconhecido|          1V|Desconhecida|   Schoharie|1987|\n",
      "| E-116574|   MUSCOOT5| 1987-01-07|      00:00|    Temperature|Desconhecido|     1.66667|           C|     Muscoot|1987|\n",
      "|  E-90000|   AMAWALKR| 1987-01-07|      00:00|    Temperature|Desconhecido|     2.77778|           C|     Muscoot|1987|\n",
      "|  E-90000|   AMAWALKR| 1987-01-07|      00:00| Apparent Color|Desconhecido|          20|          CU|     Muscoot|1987|\n",
      "|  E-90000|   AMAWALKR| 1987-01-07|      00:00|Scent Character|Desconhecido|           0|Desconhecida|     Muscoot|1987|\n",
      "| E-116574|   MUSCOOT5| 1987-01-07|      00:00|Scent Character|Desconhecido|           0|Desconhecida|     Muscoot|1987|\n",
      "| C-185662|        S5I| 1987-01-07|      00:00|             pH|Desconhecido|         7.1|Desconhecida|   Schoharie|1987|\n",
      "| C-187041|        S7I| 1987-01-07|      00:00|             pH|Desconhecido|         6.9|Desconhecida|   Schoharie|1987|\n",
      "| C-183916|         S2| 1987-01-07|      00:00|    Iron, Total|Desconhecido|       <0.01|        mg/L|   Schoharie|1987|\n",
      "| C-184505|         S3| 1987-01-07|      00:00|    Iron, Total|Desconhecido|       <0.01|        mg/L|   Schoharie|1987|\n",
      "| C-185662|        S5I| 1987-01-07|      00:00|    Iron, Total|Desconhecido|       <0.01|        mg/L|   Schoharie|1987|\n",
      "| C-187041|        S7I| 1987-01-07|      00:00|    Iron, Total|Desconhecido|       <0.01|        mg/L|   Schoharie|1987|\n",
      "| C-183916|         S2| 1987-01-07|      00:00| Apparent Color|Desconhecido|           9|          CU|   Schoharie|1987|\n",
      "| C-184505|         S3| 1987-01-07|      00:00| Apparent Color|Desconhecido|           4|          CU|   Schoharie|1987|\n",
      "+---------+-----------+-----------+-----------+---------------+------------+------------+------------+------------+----+\n",
      "only showing top 20 rows\n",
      "\n"
     ]
    }
   ],
   "source": [
    "replaced_projeto_water6 = replaced_projeto_water5.withColumn(\"Sample Date\", to_date(col(\"Sample Date\"), \"MM/dd/yyy\"))\n",
    "replaced_projeto_water6 = replaced_projeto_water6.withColumn('Ano', (split(replaced_projeto_water6['Sample Date'], '-').getItem(0)).cast(IntegerType()))\n",
    "replaced_projeto_water6.show()"
   ]
  },
  {
   "cell_type": "code",
   "execution_count": 11,
   "id": "d87df241-b07b-4ae3-87ac-f75fee645e3e",
   "metadata": {},
   "outputs": [
    {
     "name": "stdout",
     "output_type": "stream",
     "text": [
      "root\n",
      " |-- Sample Id: string (nullable = true)\n",
      " |-- Sample Site: string (nullable = true)\n",
      " |-- Sample Date: date (nullable = true)\n",
      " |-- Sample Time: string (nullable = true)\n",
      " |-- Analyte: string (nullable = true)\n",
      " |-- Status: string (nullable = true)\n",
      " |-- Final Result: string (nullable = true)\n",
      " |-- Units: string (nullable = true)\n",
      " |-- Stream Group: string (nullable = true)\n",
      " |-- Ano: integer (nullable = true)\n",
      "\n"
     ]
    }
   ],
   "source": [
    "replaced_projeto_water6.printSchema()"
   ]
  },
  {
   "cell_type": "code",
   "execution_count": 12,
   "id": "ad862db5-1303-44a6-bf78-da89c330c6cc",
   "metadata": {},
   "outputs": [
    {
     "name": "stdout",
     "output_type": "stream",
     "text": [
      "+---------+-----------+-----------+-----------+---------------+------------+------------+------------+------------+----+\n",
      "|Sample_Id|Sample_Site|Sample_Date|Sample_Time|        Analyte|      Status|Final_Result|       Units|Stream_Group| Ano|\n",
      "+---------+-----------+-----------+-----------+---------------+------------+------------+------------+------------+----+\n",
      "| C-185028|         S4| 1987-01-07|      00:00|    Temperature|Desconhecido|     1.11111|           C|   Schoharie|1987|\n",
      "| C-186342|        S6I| 1987-01-07|      00:00|    Temperature|Desconhecido|    0.555556|           C|   Schoharie|1987|\n",
      "| C-187744|         S8| 1987-01-07|      00:00|    Temperature|Desconhecido|     2.22222|           C|   Schoharie|1987|\n",
      "| C-185028|         S4| 1987-01-07|      00:00|Scent Character|Desconhecido|          1V|Desconhecida|   Schoharie|1987|\n",
      "| C-186342|        S6I| 1987-01-07|      00:00|Scent Character|Desconhecido|          1V|Desconhecida|   Schoharie|1987|\n",
      "| C-187744|         S8| 1987-01-07|      00:00|Scent Character|Desconhecido|          1V|Desconhecida|   Schoharie|1987|\n",
      "| C-182701|         S1| 1987-01-07|      00:00|Scent Character|Desconhecido|          1V|Desconhecida|   Schoharie|1987|\n",
      "| E-116574|   MUSCOOT5| 1987-01-07|      00:00|    Temperature|Desconhecido|     1.66667|           C|     Muscoot|1987|\n",
      "|  E-90000|   AMAWALKR| 1987-01-07|      00:00|    Temperature|Desconhecido|     2.77778|           C|     Muscoot|1987|\n",
      "|  E-90000|   AMAWALKR| 1987-01-07|      00:00| Apparent Color|Desconhecido|          20|          CU|     Muscoot|1987|\n",
      "|  E-90000|   AMAWALKR| 1987-01-07|      00:00|Scent Character|Desconhecido|           0|Desconhecida|     Muscoot|1987|\n",
      "| E-116574|   MUSCOOT5| 1987-01-07|      00:00|Scent Character|Desconhecido|           0|Desconhecida|     Muscoot|1987|\n",
      "| C-185662|        S5I| 1987-01-07|      00:00|             pH|Desconhecido|         7.1|Desconhecida|   Schoharie|1987|\n",
      "| C-187041|        S7I| 1987-01-07|      00:00|             pH|Desconhecido|         6.9|Desconhecida|   Schoharie|1987|\n",
      "| C-183916|         S2| 1987-01-07|      00:00|    Iron, Total|Desconhecido|       <0.01|        mg/L|   Schoharie|1987|\n",
      "| C-184505|         S3| 1987-01-07|      00:00|    Iron, Total|Desconhecido|       <0.01|        mg/L|   Schoharie|1987|\n",
      "| C-185662|        S5I| 1987-01-07|      00:00|    Iron, Total|Desconhecido|       <0.01|        mg/L|   Schoharie|1987|\n",
      "| C-187041|        S7I| 1987-01-07|      00:00|    Iron, Total|Desconhecido|       <0.01|        mg/L|   Schoharie|1987|\n",
      "| C-183916|         S2| 1987-01-07|      00:00| Apparent Color|Desconhecido|           9|          CU|   Schoharie|1987|\n",
      "| C-184505|         S3| 1987-01-07|      00:00| Apparent Color|Desconhecido|           4|          CU|   Schoharie|1987|\n",
      "+---------+-----------+-----------+-----------+---------------+------------+------------+------------+------------+----+\n",
      "only showing top 20 rows\n",
      "\n"
     ]
    }
   ],
   "source": [
    "replaced_projeto_water7 = replaced_projeto_water6 \\\n",
    "    .withColumnRenamed(\"Sample Id\",\"Sample_Id\") \\\n",
    "    .withColumnRenamed(\"Sample Site\",\"Sample_Site\") \\\n",
    "    .withColumnRenamed(\"Sample Date\",\"Sample_Date\") \\\n",
    "    .withColumnRenamed(\"Sample Time\",\"Sample_Time\") \\\n",
    "    .withColumnRenamed(\"Final Result\",\"Final_Result\")\\\n",
    "    .withColumnRenamed(\"Stream Group\",\"Stream_Group\")\n",
    "replaced_projeto_water7.show()"
   ]
  },
  {
   "cell_type": "code",
   "execution_count": 13,
   "id": "bb3f7613-c63c-40b2-9b4e-6aed2ddf3016",
   "metadata": {},
   "outputs": [
    {
     "data": {
      "text/plain": [
       "DataFrame[]"
      ]
     },
     "execution_count": 13,
     "metadata": {},
     "output_type": "execute_result"
    }
   ],
   "source": [
    "spark.sql(\n",
    "    \"\"\"\n",
    "    DROP TABLE IF EXISTS Projeto.Tabela_Agua\n",
    "    \"\"\"\n",
    ")\n",
    "\n",
    "spark.sql(\n",
    "    \"\"\"\n",
    "    CREATE EXTERNAL TABLE Projeto.Tabela_Agua (\n",
    "        Sample_Id VARCHAR(50),\n",
    "        Sample_Site VARCHAR(50), \n",
    "        Sample_Date date,\n",
    "        Sample_Time VARCHAR(50),\n",
    "        Analyte VARCHAR(500),\n",
    "        Status VARCHAR(50),\n",
    "        Final_Result VARCHAR(50),\n",
    "        Units VARCHAR(50),\n",
    "        Stream_Group VARCHAR(50)\n",
    "\n",
    "    )\n",
    "       USING DELTA\n",
    "   \n",
    "   PARTITIONED BY (\n",
    "        Ano INT\n",
    "\n",
    "    )\n",
    "    LOCATION 'hdfs://hdfs-nn:9000/TrabalhoPL/silver/Projeto.db/Tabela_Agua'\n",
    "    \"\"\"\n",
    ")"
   ]
  },
  {
   "cell_type": "code",
   "execution_count": 14,
   "id": "59a00f19-adb1-4092-8433-3b53b2949fe5",
   "metadata": {},
   "outputs": [],
   "source": [
    "#write df to hive deltalake_table\n",
    "replaced_projeto_water7 \\\n",
    "    .select(\"Sample_Id\",\"Sample_Site\",\"Sample_Date\",\"Sample_Time\",\"Analyte\",\"Status\",\n",
    "            \"Final_Result\",\"Units\",\"Stream_Group\", \"Ano\") \\\n",
    "    .write \\\n",
    "    .mode(\"overwrite\") \\\n",
    "    .partitionBy(\"Ano\") \\\n",
    "    .format(\"delta\") \\\n",
    "    .save(\"hdfs://hdfs-nn:9000/TrabalhoPL/silver/Projeto.db/Tabela_Agua\")\n",
    "from pyspark.sql.types import *"
   ]
  },
  {
   "cell_type": "code",
   "execution_count": 15,
   "id": "67bf0956-36c8-4622-bcdf-97d11b95b924",
   "metadata": {},
   "outputs": [
    {
     "name": "stdout",
     "output_type": "stream",
     "text": [
      "+---------+-----------------+-----------+\n",
      "|namespace|        tableName|isTemporary|\n",
      "+---------+-----------------+-----------+\n",
      "|  projeto|             agua|      false|\n",
      "|  projeto|      tabela_agua|      false|\n",
      "|  projeto|        tabela_ar|      false|\n",
      "|  projeto|  tabela_petroleo|      false|\n",
      "|  projeto|tabela_reciclagem|      false|\n",
      "+---------+-----------------+-----------+\n",
      "\n"
     ]
    }
   ],
   "source": [
    "spark.sql(\"USE Projeto\")\n",
    "spark.sql(\"SHOW tables\").show()"
   ]
  },
  {
   "cell_type": "code",
   "execution_count": 16,
   "id": "41b76423-1e69-4363-9c39-1a34729cdcc3",
   "metadata": {},
   "outputs": [
    {
     "name": "stdout",
     "output_type": "stream",
     "text": [
      "+---------+-----------+-----------+-----------+--------------------+------------+------------+------------+-------------+----+\n",
      "|Sample_Id|Sample_Site|Sample_Date|Sample_Time|             Analyte|      Status|Final_Result|       Units| Stream_Group| Ano|\n",
      "+---------+-----------+-----------+-----------+--------------------+------------+------------+------------+-------------+----+\n",
      "| C-175259|       E16I| 1997-01-02|       8:32|Solids, Total Sus...|Desconhecido|           3|        mg/L|       Esopus|1997|\n",
      "| C-175259|       E16I| 1997-01-02|       8:32|                  pH|Desconhecido|        6.73|Desconhecida|       Esopus|1997|\n",
      "| C-175259|       E16I| 1997-01-02|       8:32|         Temperature|Desconhecido|           1|           C|       Esopus|1997|\n",
      "| C-175259|       E16I| 1997-01-02|       8:32|      Apparent Color|Desconhecido|           6|          CU|       Esopus|1997|\n",
      "| C-175259|       E16I| 1997-01-02|       8:32|     Scent Character|Desconhecido|           0|Desconhecida|       Esopus|1997|\n",
      "| C-175259|       E16I| 1997-01-02|       8:32|Specific Conductance|Desconhecido|          48|    umhos/cm|       Esopus|1997|\n",
      "| C-175259|       E16I| 1997-01-02|       8:32|     Coliform, Total|Desconhecido|          60|   CFU/100mL|       Esopus|1997|\n",
      "| C-175259|       E16I| 1997-01-02|       8:32|     Coliform, Fecal|Desconhecido|           2|   CFU/100mL|       Esopus|1997|\n",
      "| C-175259|       E16I| 1997-01-02|       8:32|           Turbidity|Desconhecido|         6.8|         NTU|       Esopus|1997|\n",
      "| C-175260|       E16I| 1997-01-03|       9:05|Solids, Total Sus...|Desconhecido|         2.8|        mg/L|       Esopus|1997|\n",
      "| C-175260|       E16I| 1997-01-03|       9:05|                  pH|Desconhecido|        6.64|Desconhecida|       Esopus|1997|\n",
      "| C-175260|       E16I| 1997-01-03|       9:05|         Temperature|Desconhecido|           3|           C|       Esopus|1997|\n",
      "| C-175260|       E16I| 1997-01-03|       9:05|      Apparent Color|Desconhecido|           7|          CU|       Esopus|1997|\n",
      "| C-175260|       E16I| 1997-01-03|       9:05|     Scent Character|Desconhecido|           0|Desconhecida|       Esopus|1997|\n",
      "| C-175260|       E16I| 1997-01-03|       9:05|Specific Conductance|Desconhecido|          49|    umhos/cm|       Esopus|1997|\n",
      "| C-175260|       E16I| 1997-01-03|       9:05|     Coliform, Total|Desconhecido|          66|   CFU/100mL|       Esopus|1997|\n",
      "| C-175260|       E16I| 1997-01-03|       9:05|     Coliform, Fecal|Desconhecido|          20|   CFU/100mL|       Esopus|1997|\n",
      "| C-175260|       E16I| 1997-01-03|       9:05|           Turbidity|Desconhecido|         7.9|         NTU|       Esopus|1997|\n",
      "|  E-94806|    CROTONR| 1997-01-06|      11:55|Organic Carbon, T...|Desconhecido|         3.2|        mg/L|EOH Hydrology|1997|\n",
      "|  D-60916|       EDRA| 1997-01-06|      10:38|           Turbidity|Desconhecido|         4.5|         NTU|     Pepacton|1997|\n",
      "+---------+-----------+-----------+-----------+--------------------+------------+------------+------------+-------------+----+\n",
      "only showing top 20 rows\n",
      "\n"
     ]
    }
   ],
   "source": [
    "spark.table(\"Projeto.Tabela_Agua\").show()"
   ]
  },
  {
   "cell_type": "code",
   "execution_count": null,
   "id": "127dfa71-ff3d-4dc8-8b30-f3061d14fddc",
   "metadata": {},
   "outputs": [],
   "source": []
  }
 ],
 "metadata": {
  "kernelspec": {
   "display_name": "Python 3 (ipykernel)",
   "language": "python",
   "name": "python3"
  },
  "language_info": {
   "codemirror_mode": {
    "name": "ipython",
    "version": 3
   },
   "file_extension": ".py",
   "mimetype": "text/x-python",
   "name": "python",
   "nbconvert_exporter": "python",
   "pygments_lexer": "ipython3",
   "version": "3.10.6"
  }
 },
 "nbformat": 4,
 "nbformat_minor": 5
}
